{
 "cells": [
  {
   "cell_type": "code",
   "execution_count": 4,
   "id": "8b5d4e3a",
   "metadata": {},
   "outputs": [],
   "source": [
    "import sys"
   ]
  },
  {
   "cell_type": "code",
   "execution_count": 5,
   "id": "6781da54",
   "metadata": {},
   "outputs": [],
   "source": [
    "sys.path.append('../')"
   ]
  },
  {
   "cell_type": "code",
   "execution_count": 6,
   "id": "6ff3e8ab",
   "metadata": {},
   "outputs": [],
   "source": [
    "from final_utils import *\n",
    "from ResNet import *\n",
    "from ResNet_FC import *\n",
    "from tensorflow.keras.models import load_model\n",
    "root_path = generate_root_path()"
   ]
  },
  {
   "cell_type": "code",
   "execution_count": 7,
   "id": "df46c510",
   "metadata": {},
   "outputs": [
    {
     "name": "stdout",
     "output_type": "stream",
     "text": [
      "1 Physical GPUs, 1 Logical GPU\n"
     ]
    }
   ],
   "source": [
    "# No need to specify \"with gpu 1\" when using this block\n",
    "## USE THIS BLOCK IF YOU HAVE MORE THAN 1 GPU \n",
    "gpus = tf.config.list_physical_devices('GPU')\n",
    "index = 0\n",
    "tf.config.experimental.set_memory_growth(gpus[index], True)\n",
    "# select the gpu you want to use\n",
    "if gpus:\n",
    "  # Restrict TensorFlow to only use the first GPU\n",
    "    try:\n",
    "        tf.config.set_visible_devices(gpus[index], 'GPU')\n",
    "        logical_gpus = tf.config.list_logical_devices('GPU')\n",
    "        print(len(gpus), \"Physical GPUs,\", len(logical_gpus), \"Logical GPU\")\n",
    "    except RuntimeError as e:\n",
    "        # Visible devices must be set before GPUs have been initialized\n",
    "        print(e)"
   ]
  },
  {
   "cell_type": "code",
   "execution_count": 8,
   "id": "7b6c5498",
   "metadata": {},
   "outputs": [],
   "source": [
    "weights_path = '../models/Softmax/ResNet_FC/'\n",
    "model = load_model(weights_path)"
   ]
  },
  {
   "cell_type": "code",
   "execution_count": 9,
   "id": "92e28024",
   "metadata": {},
   "outputs": [],
   "source": [
    "good_imgs_path = glob(os.path.join(root_path, 'Data', 'AesthAI', 'benchmark', 'images', 'good', '*'))\n",
    "bad_imgs_path = glob(os.path.join(root_path, 'Data', 'AesthAI', 'benchmark', 'images', 'bad', '*'))\n",
    "\n",
    "good_imgs_path_2 = glob(os.path.join(root_path, 'Data', 'AesthAI', 'benchmark2', 'images', 'good', '*'))\n",
    "bad_imgs_path_2 = glob(os.path.join(root_path, 'Data', 'AesthAI', 'benchmark2', 'images', 'bad', '*'))\n",
    "\n",
    "good_imgs_path_joint = glob(os.path.join(root_path, 'Data', 'AesthAI', 'benchmark_connected', 'images', 'good', '*'))\n",
    "bad_imgs_path_joint = glob(os.path.join(root_path, 'Data', 'AesthAI', 'benchmark_connected', 'images', 'bad', '*'))\n",
    "\n",
    "good_alm_imgs_path = glob(os.path.join(root_path, 'Data', 'AesthAI', 'alm', 'splitted', 'alm_bench', 'images', 'good', '*'))\n",
    "bad_alm_imgs_path = glob(os.path.join(root_path, 'Data', 'AesthAI', 'alm', 'splitted', 'alm_bench', 'images', 'bad', '*'))\n",
    "\n",
    "good_rand_imgs_path = glob(os.path.join(root_path, 'Data', 'AesthAI', 'Sven_custom_data', 'images', 'good', '*'))\n",
    "bad_rand_imgs_path = glob(os.path.join(root_path, 'Data', 'AesthAI', 'Sven_custom_data', 'images', 'bad', '*'))\n",
    "\n",
    "bad_coco_imgs_path = glob(os.path.join(root_path, 'Data', 'AesthAI', 'Coco', 'images', 'bad', '*'))\n",
    "\n",
    "paths_bench = good_imgs_path + bad_imgs_path\n",
    "labels_bench = np.concatenate((np.ones(len(good_imgs_path)), np.zeros(len(bad_imgs_path))))\n",
    "\n",
    "paths_bench_2 = good_imgs_path_2 + bad_imgs_path_2\n",
    "labels_bench_2 = np.concatenate((np.ones(len(good_imgs_path_2)), np.zeros(len(bad_imgs_path_2))))\n",
    "\n",
    "paths_bench_joint = good_imgs_path_joint + bad_imgs_path_joint\n",
    "labels_bench_joint = np.concatenate((np.ones(len(good_imgs_path_joint)), np.zeros(len(bad_imgs_path_joint))))\n",
    "\n",
    "paths_alm_bench = good_alm_imgs_path + bad_alm_imgs_path\n",
    "labels_alm_bench = np.concatenate((np.ones(len(good_alm_imgs_path)), np.zeros(len(bad_alm_imgs_path))))\n",
    "\n",
    "paths_rand_bench = good_rand_imgs_path + bad_rand_imgs_path\n",
    "labels_rand_bench = np.concatenate((np.ones(len(good_rand_imgs_path)), np.zeros(len(bad_rand_imgs_path))))\n",
    "\n",
    "paths_coco_bench = bad_coco_imgs_path\n",
    "labels_coco_bench = np.zeros(len(bad_coco_imgs_path))"
   ]
  },
  {
   "cell_type": "code",
   "execution_count": 10,
   "id": "4a46ef48",
   "metadata": {},
   "outputs": [],
   "source": [
    "def calc_acc(labels, predicted):\n",
    "    return np.sum(np.array(labels) == np.argmax(np.array(predicted), axis=1)) / len(labels)\n",
    "\n",
    "def predict_from_path(model, paths, resize_func=None, size=None, for_all=False, model_CNN=None, is_norm=False):\n",
    "    #always requires list of paths\n",
    "    predicted = []\n",
    "    \n",
    "    for i, path in enumerate(paths):\n",
    "        img_mg = read_img(path=path, resize_func=resize_func, size=size, for_all=for_all)\n",
    "        pred_score = model.predict(img_mg, verbose=0)\n",
    "        predicted.append(pred_score)\n",
    "    \n",
    "    predicted = np.array(predicted)\n",
    "    predicted = np.squeeze(predicted)\n",
    "        \n",
    "    return predicted"
   ]
  },
  {
   "cell_type": "markdown",
   "id": "d07f5ed1",
   "metadata": {},
   "source": [
    "### Prediction on benchmark"
   ]
  },
  {
   "cell_type": "code",
   "execution_count": 18,
   "id": "f5d399fb",
   "metadata": {
    "scrolled": true
   },
   "outputs": [],
   "source": [
    "predicted = predict_from_path(model, paths_bench, resize_func=resize_add_border, size=(600, 600))"
   ]
  },
  {
   "cell_type": "code",
   "execution_count": 19,
   "id": "b9a35944",
   "metadata": {},
   "outputs": [
    {
     "name": "stdout",
     "output_type": "stream",
     "text": [
      "Accuracy: 0.7387387387387387\n"
     ]
    }
   ],
   "source": [
    "acc = calc_acc(labels_bench, predicted)\n",
    "print(f'Accuracy: {acc}')"
   ]
  },
  {
   "cell_type": "code",
   "execution_count": 20,
   "id": "adb9a20e",
   "metadata": {},
   "outputs": [
    {
     "name": "stdout",
     "output_type": "stream",
     "text": [
      "Precision: 80.0 %\n",
      "Recall: 51.06 %\n"
     ]
    }
   ],
   "source": [
    "# Precision, Recall\n",
    "pred = np.argmax(predicted, axis=1)\n",
    "calc_metrics(labels_bench, pred)"
   ]
  },
  {
   "cell_type": "markdown",
   "id": "ac68ae26",
   "metadata": {},
   "source": [
    "### Prediction on benchmark 2"
   ]
  },
  {
   "cell_type": "code",
   "execution_count": 14,
   "id": "e33255dc",
   "metadata": {},
   "outputs": [],
   "source": [
    "predicted = predict_from_path(model, paths_bench_2, resize_func=resize_add_border, size=(600, 600))"
   ]
  },
  {
   "cell_type": "code",
   "execution_count": 15,
   "id": "2b8665f1",
   "metadata": {},
   "outputs": [
    {
     "name": "stdout",
     "output_type": "stream",
     "text": [
      "Accuracy: 0.7456479690522244\n"
     ]
    }
   ],
   "source": [
    "acc = calc_acc(labels_bench_2, predicted)\n",
    "print(f'Accuracy: {acc}')"
   ]
  },
  {
   "cell_type": "code",
   "execution_count": 16,
   "id": "b657dd65",
   "metadata": {},
   "outputs": [
    {
     "name": "stdout",
     "output_type": "stream",
     "text": [
      "Precision: 91.19 %\n",
      "Recall: 56.18 %\n"
     ]
    }
   ],
   "source": [
    "# Precision, Recall\n",
    "pred = np.argmax(predicted, axis=1)\n",
    "calc_metrics(labels_bench_2, pred)"
   ]
  },
  {
   "cell_type": "markdown",
   "id": "227abec1",
   "metadata": {},
   "source": [
    "### Prediction on joint benchmark "
   ]
  },
  {
   "cell_type": "code",
   "execution_count": null,
   "id": "874457c2",
   "metadata": {},
   "outputs": [],
   "source": [
    "predicted = predict_from_path(model, paths_bench_joint, resize_func=resize_add_border, size=(600, 600))"
   ]
  },
  {
   "cell_type": "code",
   "execution_count": null,
   "id": "8cd45358",
   "metadata": {},
   "outputs": [],
   "source": [
    "acc = calc_acc(labels_bench_joint, predicted)\n",
    "print(f'Accuracy: {acc}')"
   ]
  },
  {
   "cell_type": "code",
   "execution_count": null,
   "id": "f6928e87",
   "metadata": {},
   "outputs": [],
   "source": [
    "# Precision, Recall\n",
    "pred = np.argmax(predicted, axis=1)\n",
    "calc_metrics(labels_bench_joint, pred)"
   ]
  },
  {
   "cell_type": "markdown",
   "id": "30d45a5d",
   "metadata": {},
   "source": [
    "### Prediction on COCO"
   ]
  },
  {
   "cell_type": "code",
   "execution_count": null,
   "id": "da4f205f",
   "metadata": {},
   "outputs": [],
   "source": [
    "predicted = predict_from_path(model, paths_coco_bench, resize_func=resize_add_border, size=(600, 600))"
   ]
  },
  {
   "cell_type": "code",
   "execution_count": null,
   "id": "0e01a154",
   "metadata": {},
   "outputs": [],
   "source": [
    "acc = calc_acc(labels_coco_bench, predicted)\n",
    "print(f'Accuracy: {acc}')"
   ]
  },
  {
   "cell_type": "markdown",
   "id": "fb9b3f2e",
   "metadata": {},
   "source": [
    "### Prediction on alm benchmark"
   ]
  },
  {
   "cell_type": "code",
   "execution_count": null,
   "id": "11707c55",
   "metadata": {},
   "outputs": [],
   "source": [
    "predicted = predict_from_path(model, paths_alm_bench, resize_func=resize_add_border, size=(600, 600))"
   ]
  },
  {
   "cell_type": "code",
   "execution_count": null,
   "id": "f412c5f2",
   "metadata": {},
   "outputs": [],
   "source": [
    "acc = calc_acc(labels_alm_bench, predicted)\n",
    "print(f'Accuracy: {acc}')"
   ]
  },
  {
   "cell_type": "code",
   "execution_count": null,
   "id": "3e84c339",
   "metadata": {},
   "outputs": [],
   "source": [
    "# Precision, Recall\n",
    "pred = np.argmax(predicted, axis=1)\n",
    "calc_metrics(labels_alm_bench, pred)"
   ]
  },
  {
   "cell_type": "markdown",
   "id": "f6185f50",
   "metadata": {},
   "source": [
    "### Prediction on Sven custom data"
   ]
  },
  {
   "cell_type": "code",
   "execution_count": null,
   "id": "d1a80a1a",
   "metadata": {},
   "outputs": [],
   "source": [
    "predicted = predict_from_path(model, paths_rand_bench, resize_func=resize_add_border, size=(600, 600))"
   ]
  },
  {
   "cell_type": "code",
   "execution_count": null,
   "id": "12c9dc57",
   "metadata": {},
   "outputs": [],
   "source": [
    "acc = calc_acc(labels_rand_bench, predicted)\n",
    "print(f'Accuracy: {acc}')"
   ]
  },
  {
   "cell_type": "code",
   "execution_count": null,
   "id": "70533e47",
   "metadata": {},
   "outputs": [],
   "source": [
    "# Precision, Recall\n",
    "pred = np.argmax(predicted, axis=1)\n",
    "calc_metrics(labels_rand_bench, pred)"
   ]
  },
  {
   "cell_type": "code",
   "execution_count": null,
   "id": "d4e0a536",
   "metadata": {},
   "outputs": [],
   "source": []
  }
 ],
 "metadata": {
  "kernelspec": {
   "display_name": "Python 3 (ipykernel)",
   "language": "python",
   "name": "python3"
  },
  "language_info": {
   "codemirror_mode": {
    "name": "ipython",
    "version": 3
   },
   "file_extension": ".py",
   "mimetype": "text/x-python",
   "name": "python",
   "nbconvert_exporter": "python",
   "pygments_lexer": "ipython3",
   "version": "3.9.12"
  }
 },
 "nbformat": 4,
 "nbformat_minor": 5
}
