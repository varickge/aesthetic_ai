{
 "cells": [
  {
   "cell_type": "code",
   "execution_count": 17,
   "id": "071b9b6b",
   "metadata": {},
   "outputs": [
    {
     "name": "stdout",
     "output_type": "stream",
     "text": [
      "C:\\Users\\CareAware\\Consulting_Projects\\aesthetic-ai\\DeepFL\n"
     ]
    }
   ],
   "source": [
    "cd .."
   ]
  },
  {
   "cell_type": "code",
   "execution_count": 19,
   "id": "6a68d025",
   "metadata": {},
   "outputs": [],
   "source": [
    "from final_utils import *\n",
    "from ResNet import *\n",
    "import time\n",
    "# import pickle as pk"
   ]
  },
  {
   "cell_type": "code",
   "execution_count": 20,
   "id": "3d2b2fb2",
   "metadata": {},
   "outputs": [],
   "source": [
    "gpu = tf.config.list_physical_devices('GPU')\n",
    "# tf.config.experimental.set_memory_growth(gpu[0], True)"
   ]
  },
  {
   "cell_type": "code",
   "execution_count": 21,
   "id": "184209dd",
   "metadata": {},
   "outputs": [],
   "source": [
    "#idea\n",
    "# fit_generator()\n",
    "# gpu_options = tf.GPUOptions(allow_growth=True)\n",
    "# session = tf.InteractiveSession(config=tf.ConfigProto(gpu_options=gpu_options))"
   ]
  },
  {
   "cell_type": "code",
   "execution_count": 22,
   "id": "c1b60bd8",
   "metadata": {},
   "outputs": [],
   "source": [
    "root_path = generate_root_path()"
   ]
  },
  {
   "cell_type": "markdown",
   "id": "deac32fd",
   "metadata": {},
   "source": [
    "### DataLoader and other nesseccary functions"
   ]
  },
  {
   "cell_type": "code",
   "execution_count": 23,
   "id": "b1e61f79",
   "metadata": {},
   "outputs": [
    {
     "ename": "FileNotFoundError",
     "evalue": "[Errno 2] No such file or directory: 'best_res/best_solution_2_90.99_90.91.npy'",
     "output_type": "error",
     "traceback": [
      "\u001b[1;31m---------------------------------------------------------------------------\u001b[0m",
      "\u001b[1;31mFileNotFoundError\u001b[0m                         Traceback (most recent call last)",
      "Input \u001b[1;32mIn [23]\u001b[0m, in \u001b[0;36m<cell line: 1>\u001b[1;34m()\u001b[0m\n\u001b[1;32m----> 1\u001b[0m indxs \u001b[38;5;241m=\u001b[39m \u001b[43mnp\u001b[49m\u001b[38;5;241;43m.\u001b[39;49m\u001b[43mload\u001b[49m\u001b[43m(\u001b[49m\u001b[38;5;124;43m'\u001b[39;49m\u001b[38;5;124;43mbest_res/best_solution_2_90.99_90.91.npy\u001b[39;49m\u001b[38;5;124;43m'\u001b[39;49m\u001b[43m)\u001b[49m\n\u001b[0;32m      2\u001b[0m \u001b[38;5;66;03m# def take_from_vector(feature_vector, indxs ):    \u001b[39;00m\n\u001b[0;32m      3\u001b[0m \u001b[38;5;66;03m# #     return feature_vector[indxs]\u001b[39;00m\n\u001b[0;32m      4\u001b[0m \u001b[38;5;66;03m#     return np.take(feature_vector, indxs)\u001b[39;00m\n\u001b[0;32m      6\u001b[0m \u001b[38;5;28;01mdef\u001b[39;00m \u001b[38;5;21mtake_from_vector\u001b[39m(data, indxs):\n",
      "File \u001b[1;32m~\\.conda\\envs\\tf\\lib\\site-packages\\numpy\\lib\\npyio.py:407\u001b[0m, in \u001b[0;36mload\u001b[1;34m(file, mmap_mode, allow_pickle, fix_imports, encoding)\u001b[0m\n\u001b[0;32m    405\u001b[0m     own_fid \u001b[38;5;241m=\u001b[39m \u001b[38;5;28;01mFalse\u001b[39;00m\n\u001b[0;32m    406\u001b[0m \u001b[38;5;28;01melse\u001b[39;00m:\n\u001b[1;32m--> 407\u001b[0m     fid \u001b[38;5;241m=\u001b[39m stack\u001b[38;5;241m.\u001b[39menter_context(\u001b[38;5;28;43mopen\u001b[39;49m\u001b[43m(\u001b[49m\u001b[43mos_fspath\u001b[49m\u001b[43m(\u001b[49m\u001b[43mfile\u001b[49m\u001b[43m)\u001b[49m\u001b[43m,\u001b[49m\u001b[43m \u001b[49m\u001b[38;5;124;43m\"\u001b[39;49m\u001b[38;5;124;43mrb\u001b[39;49m\u001b[38;5;124;43m\"\u001b[39;49m\u001b[43m)\u001b[49m)\n\u001b[0;32m    408\u001b[0m     own_fid \u001b[38;5;241m=\u001b[39m \u001b[38;5;28;01mTrue\u001b[39;00m\n\u001b[0;32m    410\u001b[0m \u001b[38;5;66;03m# Code to distinguish from NumPy binary files and pickles.\u001b[39;00m\n",
      "\u001b[1;31mFileNotFoundError\u001b[0m: [Errno 2] No such file or directory: 'best_res/best_solution_2_90.99_90.91.npy'"
     ]
    }
   ],
   "source": [
    "indxs = np.load('best_res/best_solution_2_90.99_90.91.npy')\n",
    "# def take_from_vector(feature_vector, indxs ):    \n",
    "# #     return feature_vector[indxs]\n",
    "#     return np.take(feature_vector, indxs)\n",
    "\n",
    "def take_from_vector(data, indxs):\n",
    "    idx = np.nonzero(indxs)\n",
    "    new_data = np.squeeze(data[idx])\n",
    "    return new_data"
   ]
  },
  {
   "cell_type": "code",
   "execution_count": 24,
   "id": "04ba3d17",
   "metadata": {},
   "outputs": [],
   "source": [
    "def lr_exp_decay(epoch, lr):\n",
    "    k = 0.04\n",
    "    return lr * np.exp(-k*epoch)\n",
    "\n",
    "\n",
    "# def pca_transform(vector,path = \"/home/server3090ti/Data/AesthAI/alm/splitted/alm_train/features/multigap/original_PCA_8464_auto/model/pca.pkl\"):\n",
    "#     pca = pk.load(open(path,'rb'))\n",
    "#     return pca.transform(vector)\n",
    "\n",
    "def load_batch(paths, main_path=f'{root_path}Data/AesthAI/alm/splitted/alm_train/'):\n",
    "    images = []\n",
    "    feats = []\n",
    "    \n",
    "    feats_MG = 'original'  \n",
    "    feats_CNN = 'border_600x600'\n",
    "    # feats_CNN_MG_PCA = 'cnn_mg_concat/pca_9744_auto'\n",
    "    cnn = 'cnn_efficientnet_b7'\n",
    "    \n",
    "    for i, path in enumerate(paths):\n",
    "#         if i % 100 == 0:\n",
    "#             print(f'batch {i}')\n",
    "        try:\n",
    "            img = cv2.imread(path, cv2.COLOR_BGR2RGB)\n",
    "            img = resize_add_border(img, size=(600, 600)) # 600\n",
    "            img = img.astype('float32')\n",
    "            img /= 255 \n",
    "#             img = tf.convert_to_tensor(img)\n",
    "        except:\n",
    "            continue\n",
    "            \n",
    "        images.append(img)\n",
    "        path_to_feat = path.split('.')[0].split('/')[-1] + '.npy'\n",
    "#         path_to_feat = main_path + 'features/multigap/all_res_996_PCA_4232_auto/' + path_to_feat \n",
    "#         feats.append(np.load(path_to_feat))\n",
    "        feat_path_1 = main_path + f'features/multigap/{feats_MG}/' + path_to_feat\n",
    "        feat_path_2 = main_path + f'features/{cnn}/{feats_CNN}/' + path_to_feat\n",
    "\n",
    "#         feat_1 = pca_mg.transform(np.load(feat_path_1))\n",
    "#         feat_2 = pca_cnn.transform(np.load(feat_path_2)) \n",
    "        feat_1 = np.load(feat_path_1)\n",
    "        feat_2 = np.load(feat_path_2)\n",
    "        connected = np.concatenate((np.squeeze(feat_1), np.squeeze(feat_2)))\n",
    "        connected = take_from_vector(connected, indxs) # must be commented later\n",
    "        feats.append(connected)\n",
    "    \n",
    "                     \n",
    "    images = np.stack(images) #? maybe ToDo:tf stack & add axis=0\n",
    "    feats = np.squeeze(feats)\n",
    "    \n",
    "    return images, feats"
   ]
  },
  {
   "cell_type": "markdown",
   "id": "bd814f3b",
   "metadata": {},
   "source": [
    "### Trainer"
   ]
  },
  {
   "cell_type": "code",
   "execution_count": 25,
   "id": "54ad2b7a",
   "metadata": {},
   "outputs": [],
   "source": [
    "def trainer(model, data, data_val,batch_size=128, epochs=30, learning_rate=0.03, verbose=0):\n",
    "    X_train, y_train = load_batch(data)\n",
    "    print('X_train', X_train.shape, 'y_tain', y_train.shape)\n",
    "    train_dataset = tf.data.Dataset.from_tensor_slices((X_train, y_train)).batch(batch_size)#.prefetch(tf.data.AUTOTUNE)  # ToDo: here use .cache()\n",
    "\n",
    "    history = model.fit(train_dataset,\n",
    "                        batch_size=batch_size,\n",
    "                        epochs=1,\n",
    "                        verbose=verbose,\n",
    "                        validation_data = data_val)\n",
    "\n",
    "    return history"
   ]
  },
  {
   "cell_type": "markdown",
   "id": "d894e5c7",
   "metadata": {},
   "source": [
    "### Loading data"
   ]
  },
  {
   "cell_type": "code",
   "execution_count": 26,
   "id": "ee2f61a5",
   "metadata": {},
   "outputs": [],
   "source": [
    "main_path = main_path=f'{root_path}Data/AesthAI/alm/splitted/alm_train/'\n",
    "paths_bad = []\n",
    "paths_good = []\n",
    "    \n",
    "for i in range(7):\n",
    "    alm_train_bad = open(f'{main_path}data_bad{i+1}.json')\n",
    "    bad_data = json.load(alm_train_bad)\n",
    "    \n",
    "    for data in bad_data:\n",
    "        path_to_img = main_path + f'images/{data[\"label\"]}/{data[\"splitted\"]}/' + data['name']\n",
    "        paths_bad.append(path_to_img)\n",
    "        \n",
    "alm_train_good = open(f'{main_path}/data_good1.json')\n",
    "good_data = json.load(alm_train_good)\n",
    "for data in good_data:\n",
    "    path_to_img = main_path + f'images/{data[\"label\"]}/{data[\"splitted\"]}/' + data['name']\n",
    "    paths_good.append(path_to_img)\n",
    "    \n",
    "for i in range(7):\n",
    "    paths_bad[i] = np.squeeze(np.array(paths_bad[i]))\n",
    "paths_good = np.squeeze(np.array(paths_good))\n",
    "   \n",
    "# Generating static validation data\n",
    "paths_bad, paths_bad_val = extract_static_val_data(paths_bad, perc = 0.014) #original - 0.017\n",
    "paths_good, paths_good_val = extract_static_val_data(paths_good, perc = 0.06) #original - 0.11\n",
    "\n",
    "paths_bad = np.array(paths_bad)\n",
    "paths_bad_val = np.array(paths_bad_val)\n",
    "paths_good = np.array(paths_good)\n",
    "paths_good_val = np.array(paths_good_val)"
   ]
  },
  {
   "cell_type": "code",
   "execution_count": 27,
   "id": "1be4e014",
   "metadata": {},
   "outputs": [
    {
     "data": {
      "text/plain": [
       "array(['D:Data/AesthAI/alm/splitted/alm_train/images/bad/bad7/2021-10-20-10-40-flower-6725690_1280.jpg',\n",
       "       'D:Data/AesthAI/alm/splitted/alm_train/images/bad/bad6/2020-09-04-09-31-black-hole-5543468_1280.jpg',\n",
       "       'D:Data/AesthAI/alm/splitted/alm_train/images/bad/bad5/2021-05-21-20-54-el-nuros-paradise-6272088_1280.jpg',\n",
       "       ...,\n",
       "       'D:Data/AesthAI/alm/splitted/alm_train/images/bad/bad5/2021-03-01-07-25-sweets-6058975_1280.jpg',\n",
       "       'D:Data/AesthAI/alm/splitted/alm_train/images/bad/bad5/2021-04-20-13-40-toro-6193882_1280.jpg',\n",
       "       'D:Data/AesthAI/alm/splitted/alm_train/images/bad/bad7/2021-11-23-05-29-drink-6817970_1280.jpg'],\n",
       "      dtype='<U139')"
      ]
     },
     "execution_count": 27,
     "metadata": {},
     "output_type": "execute_result"
    }
   ],
   "source": [
    "paths_bad"
   ]
  },
  {
   "cell_type": "code",
   "execution_count": 28,
   "id": "8842c543",
   "metadata": {},
   "outputs": [
    {
     "data": {
      "text/plain": [
       "(147091,)"
      ]
     },
     "execution_count": 28,
     "metadata": {},
     "output_type": "execute_result"
    }
   ],
   "source": [
    "full_data = np.concatenate((np.repeat(paths_good, 7), paths_bad))\n",
    "    \n",
    "#shuffling\n",
    "idx = np.random.permutation(len(full_data))\n",
    "full_data = full_data[idx]\n",
    "# full_data = full_data[:5000]  # debug\n",
    "full_data.shape"
   ]
  },
  {
   "cell_type": "code",
   "execution_count": 29,
   "id": "f17ebb84",
   "metadata": {},
   "outputs": [],
   "source": [
    "#Splitting data \n",
    "split_factor = 1024\n",
    "splitted_data = []\n",
    "\n",
    "global_batches = int(full_data.shape[0] / split_factor)\n",
    "for i in range(global_batches):\n",
    "    batch_data = full_data[i*split_factor: (i+1)*split_factor]\n",
    "    splitted_data.append(batch_data)\n",
    "    \n",
    "splitted_data[-1] = np.concatenate((splitted_data[-1], full_data[len(splitted_data)*split_factor:]))\n",
    "\n",
    "data = splitted_data"
   ]
  },
  {
   "cell_type": "code",
   "execution_count": 30,
   "id": "e35a2931",
   "metadata": {},
   "outputs": [
    {
     "data": {
      "text/plain": [
       "143"
      ]
     },
     "execution_count": 30,
     "metadata": {},
     "output_type": "execute_result"
    }
   ],
   "source": [
    "len(data)"
   ]
  },
  {
   "cell_type": "code",
   "execution_count": 39,
   "id": "e3181de4",
   "metadata": {},
   "outputs": [
    {
     "ename": "KeyError",
     "evalue": "\"Unrecognized options: {'target'}. Known options are dict_keys(['_dbg_extend_lifetimes', '_dbg_optnone', '_nrt', 'boundscheck', 'debug', 'error_model', 'fastmath', 'forceinline', 'forceobj', 'inline', 'looplift', 'no_cfunc_wrapper', 'no_cpython_wrapper', 'no_rewrites', 'nogil', 'nopython', 'parallel', 'target_backend'])\"",
     "output_type": "error",
     "traceback": [
      "\u001b[1;31m---------------------------------------------------------------------------\u001b[0m",
      "\u001b[1;31mKeyError\u001b[0m                                  Traceback (most recent call last)",
      "Input \u001b[1;32mIn [39]\u001b[0m, in \u001b[0;36m<cell line: 10>\u001b[1;34m()\u001b[0m\n\u001b[0;32m      8\u001b[0m     data_val \u001b[38;5;241m=\u001b[39m tf\u001b[38;5;241m.\u001b[39mdata\u001b[38;5;241m.\u001b[39mDataset\u001b[38;5;241m.\u001b[39mfrom_tensor_slices(data_val_0)\u001b[38;5;241m.\u001b[39mbatch(\u001b[38;5;241m32\u001b[39m)\u001b[38;5;66;03m#.prefetch(tf.data.AUTOTUNE)   # ToDo: also use .prefetch(tf.data.AUTOTUNE)\u001b[39;00m\n\u001b[0;32m      9\u001b[0m     \u001b[38;5;28;01mreturn\u001b[39;00m data_val\n\u001b[1;32m---> 10\u001b[0m data_val \u001b[38;5;241m=\u001b[39m \u001b[43mfunc\u001b[49m\u001b[43m(\u001b[49m\u001b[43mdata_val_0\u001b[49m\u001b[43m)\u001b[49m\n",
      "File \u001b[1;32m~\\.conda\\envs\\tf\\lib\\site-packages\\numba\\core\\dispatcher.py:487\u001b[0m, in \u001b[0;36m_DispatcherBase._compile_for_args\u001b[1;34m(self, *args, **kws)\u001b[0m\n\u001b[0;32m    485\u001b[0m             e\u001b[38;5;241m.\u001b[39mpatch_message(\u001b[38;5;124m'\u001b[39m\u001b[38;5;130;01m\\n\u001b[39;00m\u001b[38;5;124m'\u001b[39m\u001b[38;5;241m.\u001b[39mjoin((\u001b[38;5;28mstr\u001b[39m(e)\u001b[38;5;241m.\u001b[39mrstrip(), help_msg)))\n\u001b[0;32m    486\u001b[0m     \u001b[38;5;66;03m# ignore the FULL_TRACEBACKS config, this needs reporting!\u001b[39;00m\n\u001b[1;32m--> 487\u001b[0m     \u001b[38;5;28;01mraise\u001b[39;00m e\n\u001b[0;32m    488\u001b[0m \u001b[38;5;28;01mfinally\u001b[39;00m:\n\u001b[0;32m    489\u001b[0m     \u001b[38;5;28mself\u001b[39m\u001b[38;5;241m.\u001b[39m_types_active_call \u001b[38;5;241m=\u001b[39m []\n",
      "File \u001b[1;32m~\\.conda\\envs\\tf\\lib\\site-packages\\numba\\core\\dispatcher.py:420\u001b[0m, in \u001b[0;36m_DispatcherBase._compile_for_args\u001b[1;34m(self, *args, **kws)\u001b[0m\n\u001b[0;32m    418\u001b[0m return_val \u001b[38;5;241m=\u001b[39m \u001b[38;5;28;01mNone\u001b[39;00m\n\u001b[0;32m    419\u001b[0m \u001b[38;5;28;01mtry\u001b[39;00m:\n\u001b[1;32m--> 420\u001b[0m     return_val \u001b[38;5;241m=\u001b[39m \u001b[38;5;28;43mself\u001b[39;49m\u001b[38;5;241;43m.\u001b[39;49m\u001b[43mcompile\u001b[49m\u001b[43m(\u001b[49m\u001b[38;5;28;43mtuple\u001b[39;49m\u001b[43m(\u001b[49m\u001b[43margtypes\u001b[49m\u001b[43m)\u001b[49m\u001b[43m)\u001b[49m\n\u001b[0;32m    421\u001b[0m \u001b[38;5;28;01mexcept\u001b[39;00m errors\u001b[38;5;241m.\u001b[39mForceLiteralArg \u001b[38;5;28;01mas\u001b[39;00m e:\n\u001b[0;32m    422\u001b[0m     \u001b[38;5;66;03m# Received request for compiler re-entry with the list of arguments\u001b[39;00m\n\u001b[0;32m    423\u001b[0m     \u001b[38;5;66;03m# indicated by e.requested_args.\u001b[39;00m\n\u001b[0;32m    424\u001b[0m     \u001b[38;5;66;03m# First, check if any of these args are already Literal-ized\u001b[39;00m\n\u001b[0;32m    425\u001b[0m     already_lit_pos \u001b[38;5;241m=\u001b[39m [i \u001b[38;5;28;01mfor\u001b[39;00m i \u001b[38;5;129;01min\u001b[39;00m e\u001b[38;5;241m.\u001b[39mrequested_args\n\u001b[0;32m    426\u001b[0m                        \u001b[38;5;28;01mif\u001b[39;00m \u001b[38;5;28misinstance\u001b[39m(args[i], types\u001b[38;5;241m.\u001b[39mLiteral)]\n",
      "File \u001b[1;32m~\\.conda\\envs\\tf\\lib\\site-packages\\numba\\core\\dispatcher.py:965\u001b[0m, in \u001b[0;36mDispatcher.compile\u001b[1;34m(self, sig)\u001b[0m\n\u001b[0;32m    963\u001b[0m \u001b[38;5;28;01mwith\u001b[39;00m ev\u001b[38;5;241m.\u001b[39mtrigger_event(\u001b[38;5;124m\"\u001b[39m\u001b[38;5;124mnumba:compile\u001b[39m\u001b[38;5;124m\"\u001b[39m, data\u001b[38;5;241m=\u001b[39mev_details):\n\u001b[0;32m    964\u001b[0m     \u001b[38;5;28;01mtry\u001b[39;00m:\n\u001b[1;32m--> 965\u001b[0m         cres \u001b[38;5;241m=\u001b[39m \u001b[38;5;28;43mself\u001b[39;49m\u001b[38;5;241;43m.\u001b[39;49m\u001b[43m_compiler\u001b[49m\u001b[38;5;241;43m.\u001b[39;49m\u001b[43mcompile\u001b[49m\u001b[43m(\u001b[49m\u001b[43margs\u001b[49m\u001b[43m,\u001b[49m\u001b[43m \u001b[49m\u001b[43mreturn_type\u001b[49m\u001b[43m)\u001b[49m\n\u001b[0;32m    966\u001b[0m     \u001b[38;5;28;01mexcept\u001b[39;00m errors\u001b[38;5;241m.\u001b[39mForceLiteralArg \u001b[38;5;28;01mas\u001b[39;00m e:\n\u001b[0;32m    967\u001b[0m         \u001b[38;5;28;01mdef\u001b[39;00m \u001b[38;5;21mfolded\u001b[39m(args, kws):\n",
      "File \u001b[1;32m~\\.conda\\envs\\tf\\lib\\site-packages\\numba\\core\\dispatcher.py:125\u001b[0m, in \u001b[0;36m_FunctionCompiler.compile\u001b[1;34m(self, args, return_type)\u001b[0m\n\u001b[0;32m    124\u001b[0m \u001b[38;5;28;01mdef\u001b[39;00m \u001b[38;5;21mcompile\u001b[39m(\u001b[38;5;28mself\u001b[39m, args, return_type):\n\u001b[1;32m--> 125\u001b[0m     status, retval \u001b[38;5;241m=\u001b[39m \u001b[38;5;28;43mself\u001b[39;49m\u001b[38;5;241;43m.\u001b[39;49m\u001b[43m_compile_cached\u001b[49m\u001b[43m(\u001b[49m\u001b[43margs\u001b[49m\u001b[43m,\u001b[49m\u001b[43m \u001b[49m\u001b[43mreturn_type\u001b[49m\u001b[43m)\u001b[49m\n\u001b[0;32m    126\u001b[0m     \u001b[38;5;28;01mif\u001b[39;00m status:\n\u001b[0;32m    127\u001b[0m         \u001b[38;5;28;01mreturn\u001b[39;00m retval\n",
      "File \u001b[1;32m~\\.conda\\envs\\tf\\lib\\site-packages\\numba\\core\\dispatcher.py:139\u001b[0m, in \u001b[0;36m_FunctionCompiler._compile_cached\u001b[1;34m(self, args, return_type)\u001b[0m\n\u001b[0;32m    136\u001b[0m     \u001b[38;5;28;01mpass\u001b[39;00m\n\u001b[0;32m    138\u001b[0m \u001b[38;5;28;01mtry\u001b[39;00m:\n\u001b[1;32m--> 139\u001b[0m     retval \u001b[38;5;241m=\u001b[39m \u001b[38;5;28;43mself\u001b[39;49m\u001b[38;5;241;43m.\u001b[39;49m\u001b[43m_compile_core\u001b[49m\u001b[43m(\u001b[49m\u001b[43margs\u001b[49m\u001b[43m,\u001b[49m\u001b[43m \u001b[49m\u001b[43mreturn_type\u001b[49m\u001b[43m)\u001b[49m\n\u001b[0;32m    140\u001b[0m \u001b[38;5;28;01mexcept\u001b[39;00m errors\u001b[38;5;241m.\u001b[39mTypingError \u001b[38;5;28;01mas\u001b[39;00m e:\n\u001b[0;32m    141\u001b[0m     \u001b[38;5;28mself\u001b[39m\u001b[38;5;241m.\u001b[39m_failed_cache[key] \u001b[38;5;241m=\u001b[39m e\n",
      "File \u001b[1;32m~\\.conda\\envs\\tf\\lib\\site-packages\\numba\\core\\dispatcher.py:148\u001b[0m, in \u001b[0;36m_FunctionCompiler._compile_core\u001b[1;34m(self, args, return_type)\u001b[0m\n\u001b[0;32m    146\u001b[0m \u001b[38;5;28;01mdef\u001b[39;00m \u001b[38;5;21m_compile_core\u001b[39m(\u001b[38;5;28mself\u001b[39m, args, return_type):\n\u001b[0;32m    147\u001b[0m     flags \u001b[38;5;241m=\u001b[39m compiler\u001b[38;5;241m.\u001b[39mFlags()\n\u001b[1;32m--> 148\u001b[0m     \u001b[38;5;28;43mself\u001b[39;49m\u001b[38;5;241;43m.\u001b[39;49m\u001b[43mtargetdescr\u001b[49m\u001b[38;5;241;43m.\u001b[39;49m\u001b[43moptions\u001b[49m\u001b[38;5;241;43m.\u001b[39;49m\u001b[43mparse_as_flags\u001b[49m\u001b[43m(\u001b[49m\u001b[43mflags\u001b[49m\u001b[43m,\u001b[49m\u001b[43m \u001b[49m\u001b[38;5;28;43mself\u001b[39;49m\u001b[38;5;241;43m.\u001b[39;49m\u001b[43mtargetoptions\u001b[49m\u001b[43m)\u001b[49m\n\u001b[0;32m    149\u001b[0m     flags \u001b[38;5;241m=\u001b[39m \u001b[38;5;28mself\u001b[39m\u001b[38;5;241m.\u001b[39m_customize_flags(flags)\n\u001b[0;32m    151\u001b[0m     impl \u001b[38;5;241m=\u001b[39m \u001b[38;5;28mself\u001b[39m\u001b[38;5;241m.\u001b[39m_get_implementation(args, {})\n",
      "File \u001b[1;32m~\\.conda\\envs\\tf\\lib\\site-packages\\numba\\core\\options.py:41\u001b[0m, in \u001b[0;36mTargetOptions.parse_as_flags\u001b[1;34m(cls, flags, options)\u001b[0m\n\u001b[0;32m     32\u001b[0m \u001b[38;5;124;03m\"\"\"Parse target options defined in ``options`` and set ``flags``\u001b[39;00m\n\u001b[0;32m     33\u001b[0m \u001b[38;5;124;03maccordingly.\u001b[39;00m\n\u001b[0;32m     34\u001b[0m \n\u001b[1;32m   (...)\u001b[0m\n\u001b[0;32m     38\u001b[0m \u001b[38;5;124;03moptions : dict\u001b[39;00m\n\u001b[0;32m     39\u001b[0m \u001b[38;5;124;03m\"\"\"\u001b[39;00m\n\u001b[0;32m     40\u001b[0m opt \u001b[38;5;241m=\u001b[39m \u001b[38;5;28mcls\u001b[39m()\n\u001b[1;32m---> 41\u001b[0m \u001b[43mopt\u001b[49m\u001b[38;5;241;43m.\u001b[39;49m\u001b[43m_apply\u001b[49m\u001b[43m(\u001b[49m\u001b[43mflags\u001b[49m\u001b[43m,\u001b[49m\u001b[43m \u001b[49m\u001b[43moptions\u001b[49m\u001b[43m)\u001b[49m\n\u001b[0;32m     42\u001b[0m opt\u001b[38;5;241m.\u001b[39mfinalize(flags, options)\n\u001b[0;32m     43\u001b[0m \u001b[38;5;28;01mreturn\u001b[39;00m flags\n",
      "File \u001b[1;32m~\\.conda\\envs\\tf\\lib\\site-packages\\numba\\core\\options.py:66\u001b[0m, in \u001b[0;36mTargetOptions._apply\u001b[1;34m(self, flags, options)\u001b[0m\n\u001b[0;32m     62\u001b[0m \u001b[38;5;28;01mif\u001b[39;00m unused:\n\u001b[0;32m     63\u001b[0m     \u001b[38;5;66;03m# Unread options?\u001b[39;00m\n\u001b[0;32m     64\u001b[0m     m \u001b[38;5;241m=\u001b[39m (\u001b[38;5;124mf\u001b[39m\u001b[38;5;124m\"\u001b[39m\u001b[38;5;124mUnrecognized options: \u001b[39m\u001b[38;5;132;01m{\u001b[39;00munused\u001b[38;5;132;01m}\u001b[39;00m\u001b[38;5;124m. \u001b[39m\u001b[38;5;124m\"\u001b[39m\n\u001b[0;32m     65\u001b[0m          \u001b[38;5;124mf\u001b[39m\u001b[38;5;124m\"\u001b[39m\u001b[38;5;124mKnown options are \u001b[39m\u001b[38;5;132;01m{\u001b[39;00mmappings\u001b[38;5;241m.\u001b[39mkeys()\u001b[38;5;132;01m}\u001b[39;00m\u001b[38;5;124m\"\u001b[39m)\n\u001b[1;32m---> 66\u001b[0m     \u001b[38;5;28;01mraise\u001b[39;00m \u001b[38;5;167;01mKeyError\u001b[39;00m(m)\n",
      "\u001b[1;31mKeyError\u001b[0m: \"Unrecognized options: {'target'}. Known options are dict_keys(['_dbg_extend_lifetimes', '_dbg_optnone', '_nrt', 'boundscheck', 'debug', 'error_model', 'fastmath', 'forceinline', 'forceobj', 'inline', 'looplift', 'no_cfunc_wrapper', 'no_cpython_wrapper', 'no_rewrites', 'nogil', 'nopython', 'parallel', 'target_backend'])\""
     ]
    }
   ],
   "source": [
    "#Loading validation data\n",
    "paths_val = np.concatenate( (paths_bad_val, paths_good_val ) , axis=0 )\n",
    "X_val, y_val = load_batch(paths_val)\n",
    "\n",
    "data_val = (X_val, y_val)\n",
    "data_val = tf.data.Dataset.from_tensor_slices(data_val).batch(32)#.prefetch(tf.data.AUTOTUNE)   # ToDo: also use .prefetch(tf.data.AUTOTUNE)"
   ]
  },
  {
   "cell_type": "markdown",
   "id": "fb97b523",
   "metadata": {},
   "source": [
    "### Creating model and training"
   ]
  },
  {
   "cell_type": "code",
   "execution_count": null,
   "id": "c0455249",
   "metadata": {},
   "outputs": [],
   "source": [
    "batch_size = 32 #64\n",
    "epochs = 20\n",
    "learning_rate = 0.003"
   ]
  },
  {
   "cell_type": "code",
   "execution_count": null,
   "id": "53cbc7db",
   "metadata": {},
   "outputs": [],
   "source": [
    "model = ResNet18(num_classes=5000)\n",
    "model.build((None, 600, 600, 3))\n",
    "weights_path = 'models/ResNet/ResNet_original_border_600x600.hdf5'\n",
    "model.save_weights(weights_path)\n",
    "model.summary()"
   ]
  },
  {
   "cell_type": "code",
   "execution_count": null,
   "id": "3e379b50",
   "metadata": {
    "scrolled": false
   },
   "outputs": [],
   "source": [
    "for epoch in range(epohs):\n",
    "    learning_rate = lr_exp_decay(epoch+1, learning_rate)\n",
    "    print(f'Epoch {epoch+1}/{epochs}: ')\n",
    "    print('Learnin rate:', learning_rate)\n",
    "    model.compile(loss=tf.keras.losses.MeanSquaredError(),\n",
    "              optimizer=keras.optimizers.Adam(learning_rate=learning_rate, beta_1=0.9, beta_2=0.999, \n",
    "                                              epsilon=1e-07, decay=0, amsgrad=False), run_eagerly=True)\n",
    "#     if epoch != 0:\n",
    "    model.load_weights(weights_path)\n",
    "        \n",
    "    for i in range(len(data)):\n",
    "        verbose = 0\n",
    "        if i % 10 == 0:\n",
    "            print(i)\n",
    "            model.save_weights(weights_path)\n",
    "            verbose = 1\n",
    "        \n",
    "        random.shuffle(data)\n",
    "        batch_data = np.array(data[i])\n",
    "        history = trainer(model, \n",
    "                          batch_data, \n",
    "                          data_val,\n",
    "                          batch_size=batch_size,\n",
    "                          epochs=epochs,\n",
    "                          learning_rate=learning_rate,\n",
    "                          verbose=verbose)    \n",
    "\n",
    "#     model.save_weights(f'models/Shufflenet/Shufflenet_border_996x996_labels_MG_all_res_996_20.09.h5', save_format='h5')\n",
    "    print('Done, epoch training!')"
   ]
  },
  {
   "cell_type": "code",
   "execution_count": null,
   "id": "4c069bdf",
   "metadata": {},
   "outputs": [],
   "source": []
  },
  {
   "cell_type": "code",
   "execution_count": null,
   "id": "d1abc186",
   "metadata": {},
   "outputs": [],
   "source": []
  },
  {
   "cell_type": "code",
   "execution_count": null,
   "id": "eddba01b",
   "metadata": {},
   "outputs": [],
   "source": []
  },
  {
   "cell_type": "markdown",
   "id": "c34982f2",
   "metadata": {},
   "source": [
    "### Training on dummy data"
   ]
  },
  {
   "cell_type": "code",
   "execution_count": null,
   "id": "a65287ce",
   "metadata": {},
   "outputs": [],
   "source": [
    "def trainer(model, data_val,batch_size=128, epochs=30, learning_rate=0.03):\n",
    "    X_train = tf.random.uniform((1000, 600, 600, 3))\n",
    "    y_train = np.random.randint(0,1,(1000, 16928))\n",
    "    y_train = tf.convert_to_tensor(y_train)\n",
    "#     train_dataset = tf.data.Dataset.from_tensor_slices((X_train, y_train))  # ToDo: here use .cache()\n",
    "#     data_val = tf.data.Dataset.from_tensor_slices(data_val)  # ToDo: also use .prefetch(tf.data.AUTOTUNE)\n",
    "#     lrs = keras.callbacks.ReduceLROnPlateau()\n",
    "\n",
    "    history = model.fit(X_train, y_train,\n",
    "                        batch_size=batch_size,\n",
    "                        epochs=1,\n",
    "                        verbose=0,\n",
    "#                         callbacks=[lrs],\n",
    "                        validation_data = data_val)\n",
    "\n",
    "    return history\n",
    "\n",
    "def lr_exp_decay(epoch, lr):\n",
    "    k = 0.04\n",
    "    return lr * np.exp(-k*epoch)\n"
   ]
  },
  {
   "cell_type": "code",
   "execution_count": null,
   "id": "19cc3c97",
   "metadata": {},
   "outputs": [],
   "source": [
    "model = ShufflenetV2(num_classes=16928, training=True)"
   ]
  },
  {
   "cell_type": "code",
   "execution_count": null,
   "id": "2e585afe",
   "metadata": {},
   "outputs": [],
   "source": [
    "batch_size = 4#64\n",
    "epochs = 10#20\n",
    "learning_rate = 0.003"
   ]
  },
  {
   "cell_type": "code",
   "execution_count": null,
   "id": "11f146e5",
   "metadata": {},
   "outputs": [],
   "source": [
    "weights_path = f'models/Shufflenet/Shufflenet_on_600x600_labels_MG_original_2.h5'"
   ]
  },
  {
   "cell_type": "code",
   "execution_count": null,
   "id": "bd38cca5",
   "metadata": {},
   "outputs": [],
   "source": [
    "img_data = tf.random.uniform((2000, 600, 600, 3))\n",
    "labels = np.random.randint(0,1,(2000, 16928))\n",
    "labels = tf.convert_to_tensor(labels)\n",
    "data_val = img_data, labels"
   ]
  },
  {
   "cell_type": "code",
   "execution_count": null,
   "id": "0f77e507",
   "metadata": {},
   "outputs": [],
   "source": [
    "for epoch in range(epochs):\n",
    "#     print(f'Epoch {epoch+1}/{epochs}: ')\n",
    "#     print('Compiling the model...', end='')\n",
    "    model.compile(loss=tf.keras.losses.MeanSquaredError(),\n",
    "              optimizer=keras.optimizers.Adam(learning_rate=learning_rate, beta_1=0.9, beta_2=0.999, \n",
    "                                              epsilon=1e-07, decay=0, amsgrad=False), run_eagerly=True)\n",
    "#     print('done!')\n",
    "    if epoch != 0:\n",
    "        model.load_weights(f'models/Shufflenet/Shufflenet_on_600x600_labels_MG_original_2.h5')\n",
    "        print('Weights loaded...')\n",
    "        \n",
    "    for i in range(30):\n",
    "        start_time = time.time()\n",
    "#         if i % 5 == 0:\n",
    "        print(10*'-', i, 10*'-')\n",
    "#         batch_data = np.array(data[i])\n",
    "        history = trainer(model, \n",
    "                          data_val,\n",
    "                          batch_size=batch_size,\n",
    "                          epochs=epochs, \n",
    "                          learning_rate=learning_rate)\n",
    "        print(\"--- %s seconds ---\" % (time.time() - start_time))\n",
    "        \n",
    "    learning_rate = lr_exp_decay(epoch+1, learning_rate)\n",
    "    print('Saving the model...', end='')\n",
    "    model.save_weights(f'models/Shufflenet/Shufflenet_on_600x600_labels_MG_original_2.h5', save_format='h5')\n",
    "    print('done!')"
   ]
  },
  {
   "cell_type": "code",
   "execution_count": null,
   "id": "b858bf60",
   "metadata": {},
   "outputs": [],
   "source": [
    "history = trainer(model, \n",
    "                  data, \n",
    "                  weights_path,\n",
    "                  data_val,\n",
    "                  batch_size=batch_size,\n",
    "                  epochs=epochs, \n",
    "                  learning_rate=learning_rate)"
   ]
  },
  {
   "cell_type": "code",
   "execution_count": null,
   "id": "0da50bbd",
   "metadata": {},
   "outputs": [],
   "source": []
  }
 ],
 "metadata": {
  "kernelspec": {
   "display_name": "Python 3 (ipykernel)",
   "language": "python",
   "name": "python3"
  },
  "language_info": {
   "codemirror_mode": {
    "name": "ipython",
    "version": 3
   },
   "file_extension": ".py",
   "mimetype": "text/x-python",
   "name": "python",
   "nbconvert_exporter": "python",
   "pygments_lexer": "ipython3",
   "version": "3.9.12"
  }
 },
 "nbformat": 4,
 "nbformat_minor": 5
}
