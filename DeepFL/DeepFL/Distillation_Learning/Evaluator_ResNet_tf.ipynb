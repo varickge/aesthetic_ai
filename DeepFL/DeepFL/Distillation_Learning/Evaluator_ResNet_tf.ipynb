{
 "cells": [
  {
   "cell_type": "code",
   "execution_count": 1,
   "id": "e953ea44",
   "metadata": {},
   "outputs": [
    {
     "name": "stdout",
     "output_type": "stream",
     "text": [
      "C:\\Users\\CareAware\\Consulting_Projects\\aesthetic-ai\\DeepFL\\DeepFL\n"
     ]
    }
   ],
   "source": [
    "cd .."
   ]
  },
  {
   "cell_type": "code",
   "execution_count": 2,
   "id": "7c3dd1f5",
   "metadata": {},
   "outputs": [],
   "source": [
    "from ResNet import *\n",
    "from final_utils import *"
   ]
  },
  {
   "cell_type": "code",
   "execution_count": 3,
   "id": "db50f10f",
   "metadata": {},
   "outputs": [],
   "source": [
    "root_path = generate_root_path()"
   ]
  },
  {
   "cell_type": "markdown",
   "id": "4df9dc19",
   "metadata": {},
   "source": [
    "## Giving path of folder"
   ]
  },
  {
   "cell_type": "code",
   "execution_count": 4,
   "id": "7ba04837",
   "metadata": {},
   "outputs": [],
   "source": [
    "if True:\n",
    "    good_imgs_path = glob(os.path.join(root_path, 'Data', 'AesthAI', 'benchmark', 'images', 'good', '*'))\n",
    "    bad_imgs_path = glob(os.path.join(root_path, 'Data', 'AesthAI', 'benchmark','images', 'bad', '*'))\n",
    "else:\n",
    "    good_imgs_path = glob(os.path.join(root_path, 'Data', 'AesthAI', 'alm', 'splitted', 'alm_bench', 'images', 'good', '*'))\n",
    "    bad_imgs_path = glob(os.path.join(root_path, 'Data', 'AesthAI', 'alm', 'splitted', 'alm_bench', 'images', 'bad', '*'))\n",
    "\n",
    "good_imgs_path = sorted(good_imgs_path)\n",
    "bad_imgs_path = sorted(bad_imgs_path)\n",
    "\n",
    "paths = good_imgs_path + bad_imgs_path\n",
    "labels = np.concatenate((np.ones(len(good_imgs_path)) ,np.zeros(len(bad_imgs_path))))"
   ]
  },
  {
   "cell_type": "code",
   "execution_count": 8,
   "id": "2f21ed51",
   "metadata": {},
   "outputs": [
    {
     "data": {
      "text/plain": [
       "111"
      ]
     },
     "execution_count": 8,
     "metadata": {},
     "output_type": "execute_result"
    }
   ],
   "source": [
    "len(paths)"
   ]
  },
  {
   "cell_type": "markdown",
   "id": "f2780921",
   "metadata": {},
   "source": [
    "### Some necessary functions"
   ]
  },
  {
   "cell_type": "code",
   "execution_count": 9,
   "id": "b05c6753",
   "metadata": {},
   "outputs": [],
   "source": [
    "# indxs_mg = np.load('Distillation_Learning/best_res/best_solution_custom_mg.npy')\n",
    "# indxs_cnn = np.load('Distillation_Learning/best_res/best_solution_custom_cnn.npy')\n",
    "# # indxs = np.load('Distillation_Learning/best_res/best_solution_custom.npy')\n",
    "# indxs =  np.concatenate((indxs_mg,indxs_cnn))\n",
    "indxs = np.load('models/Softmax/best_solution_custom_95.72.npy')\n",
    "def take_from_vector(data, indxs=indxs):\n",
    "    new_data = np.squeeze(data[indxs])\n",
    "    return new_data\n"
   ]
  },
  {
   "cell_type": "code",
   "execution_count": 10,
   "id": "0031f8e0",
   "metadata": {},
   "outputs": [
    {
     "data": {
      "text/plain": [
       "array([ 2620, 14263, 11622, ..., 12844,  3338, 14810], dtype=int64)"
      ]
     },
     "execution_count": 10,
     "metadata": {},
     "output_type": "execute_result"
    }
   ],
   "source": [
    "indxs"
   ]
  },
  {
   "cell_type": "code",
   "execution_count": 11,
   "id": "c23ef8ed",
   "metadata": {},
   "outputs": [],
   "source": [
    "\n",
    "def predict(x, y=None, model_gap=None, model=None, model_cnn=None, is_norm=False, \n",
    "            pca_mg=None, pca_cnn=None, pca_connected=None, take=False):\n",
    "    '''\n",
    "    Does prediction on given numpy image using\n",
    "    model_gap and model\n",
    "    '''\n",
    "    try:\n",
    "        feat_mg = model_gap.predict(x, verbose=0)\n",
    "    except:\n",
    "        x = x[None] #changed 02.08 for evaluator visualizing predictions\n",
    "        feat_mg = model_gap.predict(x, verbose=0)\n",
    "        \n",
    "    if pca_mg:\n",
    "        feat_mg = pca_mg.transform(feat_mg)        \n",
    "    if model_cnn:\n",
    "        feat_cnn = model_cnn.predict(y, verbose=0)\n",
    "        if is_norm:\n",
    "            feat_cnn = normalize_feat_vector(feat_cnn)\n",
    "        if pca_cnn:\n",
    "            feat_cnn = pca_cnn.transform(feat_cnn)\n",
    "            \n",
    "        feat = np.concatenate((np.squeeze(feat_mg), np.squeeze(feat_cnn)))\n",
    "#         feat = take_from_vector(feat, indxs) # later comment\n",
    "        \n",
    "        if pca_connected:\n",
    "            feat = pca_connected.transform(feat[None])\n",
    "        if take:\n",
    "            feat = take_from_vector(feat, indxs)\n",
    "        feat = feat[None]\n",
    "    else:\n",
    "        feat = feat_mg\n",
    "#     feat = np.squeeze(feat, axis=0)\n",
    "#     print(feat.shape)\n",
    "    pred_score = model.predict(feat, verbose=0)\n",
    "\n",
    "    return pred_score\n",
    "    \n",
    "\n",
    "def predict_from_path(model_gap, model, paths, resize_func=None, size=None, for_all=False, save_results=None, \n",
    "                      save_to=None, model_cnn=None, is_norm=False, pca_mg = None, pca_cnn = None, pca_connected=None, take=False):\n",
    "    #always requires list of paths\n",
    "    predicted = []\n",
    "    \n",
    "    for i, path in enumerate(paths):\n",
    "        img_mg = read_img(path=path, resize_func=resize_func, size=size, for_all=for_all)\n",
    "        img_cnn = None\n",
    "        if model_cnn:\n",
    "            img_cnn = read_img(path=path, resize_func=resize_add_border, size=(600, 600))\n",
    "        pred_score = predict(img_mg, img_cnn, model_gap, model, model_cnn, is_norm, pca_mg, pca_cnn, pca_connected, take)\n",
    "        predicted.append(pred_score)\n",
    "    \n",
    "    predicted = np.array(predicted)\n",
    "    predicted = np.squeeze(predicted)\n",
    "    \n",
    "    if save_results:\n",
    "        np.save(save_to, np.argmax(predicted, axis=-1))\n",
    "        \n",
    "    return predicted"
   ]
  },
  {
   "cell_type": "markdown",
   "id": "fac8aebf",
   "metadata": {},
   "source": [
    "### Extracting features of benchmark data with Shufflenet and Multigap"
   ]
  },
  {
   "cell_type": "markdown",
   "id": "895ba4ab",
   "metadata": {},
   "source": [
    "#### Multigap"
   ]
  },
  {
   "cell_type": "code",
   "execution_count": 9,
   "id": "43359b28",
   "metadata": {},
   "outputs": [],
   "source": [
    "model_gap = model_inceptionresnet_multigap()"
   ]
  },
  {
   "cell_type": "code",
   "execution_count": null,
   "id": "21be3ff6",
   "metadata": {},
   "outputs": [
    {
     "name": "stdout",
     "output_type": "stream",
     "text": [
      "Source =  D:Data/AesthAI/benchmark/images/good\n",
      "Target =  D:Data/AesthAI/benchmark/features/multigap/original/\n"
     ]
    }
   ],
   "source": [
    "# benchmark good\n",
    "source_file = root_path + 'Data/AesthAI/benchmark/images/good' \n",
    "target_file = root_path + 'Data/AesthAI/benchmark/features/multigap/original/'\n",
    "\n",
    "extract_features_from_path_automated_json(\n",
    "                                     source_file=source_file,\n",
    "                                     target_file=target_file,\n",
    "                                     label='good',\n",
    "                                     splitted='',\n",
    "                                     model=model_gap, \n",
    "                                     resize_func=resize_max,\n",
    "                                     size=(3000,3000),\n",
    "                                     crop_func=None,\n",
    "                                     save_json=False)"
   ]
  },
  {
   "cell_type": "code",
   "execution_count": 13,
   "id": "35a5c76d",
   "metadata": {},
   "outputs": [
    {
     "name": "stdout",
     "output_type": "stream",
     "text": [
      "Source =  /home/server3090ti/Data/AesthAI/benchmark/images/bad\n",
      "Target =  /home/server3090ti/Data/AesthAI/benchmark/features/multigap/original/\n",
      "Extracted all...\n"
     ]
    }
   ],
   "source": [
    "# benchmark bad\n",
    "source_file = root_path + 'Data/AesthAI/benchmark/images/bad' \n",
    "target_file = root_path + 'Data/AesthAI/benchmark/features/multigap/original/'\n",
    "\n",
    "extract_features_from_path_automated_json(\n",
    "                                     source_file=source_file,\n",
    "                                     target_file=target_file,\n",
    "                                     label='bad',\n",
    "                                     splitted='',\n",
    "                                     model=model_gap, \n",
    "                                     resize_func=resize_max,\n",
    "                                     size=(3000,3000),\n",
    "                                     crop_func=None,\n",
    "                                     save_json=False)"
   ]
  },
  {
   "cell_type": "markdown",
   "id": "7530d5f6",
   "metadata": {},
   "source": [
    "#### EfficientNet B7"
   ]
  },
  {
   "cell_type": "code",
   "execution_count": 10,
   "id": "0524c11e",
   "metadata": {},
   "outputs": [],
   "source": [
    "model_cnn = tf.keras.Sequential([hub.KerasLayer(\"https://tfhub.dev/tensorflow/efficientnet/b7/feature-vector/1\",trainable=False) ])"
   ]
  },
  {
   "cell_type": "code",
   "execution_count": 15,
   "id": "003e1915",
   "metadata": {},
   "outputs": [
    {
     "name": "stdout",
     "output_type": "stream",
     "text": [
      "Source =  /home/server3090ti/Data/AesthAI/benchmark/images/good\n",
      "Target =  /home/server3090ti/Data/AesthAI/benchmark/features/cnn_efficientnet_b7/border_600x600/\n",
      "Extracted all...\n"
     ]
    }
   ],
   "source": [
    "# benchmark good\n",
    "source_file = root_path + 'Data/AesthAI/benchmark/images/good' \n",
    "target_file = root_path + 'Data/AesthAI/benchmark/features/cnn_efficientnet_b7/border_600x600/'\n",
    "\n",
    "extract_features_from_path_automated_json(\n",
    "                                     source_file=source_file,\n",
    "                                     target_file=target_file,\n",
    "                                     label='good',\n",
    "                                     splitted='',\n",
    "                                     model=model_cnn, \n",
    "                                     resize_func=resize_add_border,\n",
    "                                     size=(600,600),\n",
    "                                     crop_func=None,\n",
    "                                     save_json=False)"
   ]
  },
  {
   "cell_type": "code",
   "execution_count": 16,
   "id": "ecd5725a",
   "metadata": {},
   "outputs": [
    {
     "name": "stdout",
     "output_type": "stream",
     "text": [
      "Source =  /home/server3090ti/Data/AesthAI/benchmark/images/bad\n",
      "Target =  /home/server3090ti/Data/AesthAI/benchmark/features/cnn_efficientnet_b7/border_600x600/\n",
      "Extracted all...\n"
     ]
    }
   ],
   "source": [
    "# benchmark bad\n",
    "source_file = root_path + 'Data/AesthAI/benchmark/images/bad' \n",
    "target_file = root_path + 'Data/AesthAI/benchmark/features/cnn_efficientnet_b7/border_600x600/'\n",
    "\n",
    "extract_features_from_path_automated_json(\n",
    "                                     source_file=source_file,\n",
    "                                     target_file=target_file,\n",
    "                                     label='bad',\n",
    "                                     splitted='',\n",
    "                                     model=model_cnn, \n",
    "                                     resize_func=resize_add_border,\n",
    "                                     size=(600,600),\n",
    "                                     crop_func=None,\n",
    "                                     save_json=False)"
   ]
  },
  {
   "cell_type": "markdown",
   "id": "2ef0fde2",
   "metadata": {},
   "source": [
    "#### Resnet"
   ]
  },
  {
   "cell_type": "code",
   "execution_count": 12,
   "id": "50155a3b",
   "metadata": {},
   "outputs": [],
   "source": [
    "# model_resnet = ResNet18(num_classes=3409)\n",
    "# model_resnet.build((None, 600, 600, 3))\n",
    "# weights_path = 'models/ResNet/ResNet_original_border_600x600.hdf5'\n",
    "# model_resnet.load_weights(weights_path)\n",
    "model_path = 'models/ResNet/ResNet_5k_996_95_72'\n",
    "model_resnet = keras.models.load_model(model_path)"
   ]
  },
  {
   "cell_type": "code",
   "execution_count": 13,
   "id": "6395a5d6",
   "metadata": {},
   "outputs": [
    {
     "data": {
      "text/plain": [
       "['D:Data/AesthAI/benchmark/features/resnet\\\\border_600x600',\n",
       " 'D:Data/AesthAI/benchmark/features/resnet\\\\border_600x600_3409',\n",
       " 'D:Data/AesthAI/benchmark/features/resnet\\\\border_600x600_3k',\n",
       " 'D:Data/AesthAI/benchmark/features/resnet\\\\border_600x600_3k_test',\n",
       " 'D:Data/AesthAI/benchmark/features/resnet\\\\border_600x600_5k_93_01',\n",
       " 'D:Data/AesthAI/benchmark/features/resnet\\\\border_600x600_5k_94_24',\n",
       " 'D:Data/AesthAI/benchmark/features/resnet\\\\border_600x600_5k_augm']"
      ]
     },
     "execution_count": 13,
     "metadata": {},
     "output_type": "execute_result"
    }
   ],
   "source": [
    "glob(root_path + f'Data/AesthAI/benchmark/features/resnet/*')"
   ]
  },
  {
   "cell_type": "code",
   "execution_count": 14,
   "id": "c2bb3902",
   "metadata": {},
   "outputs": [],
   "source": [
    "# os.mkdir(root_path + f'Data/AesthAI/benchmark/features/resnet/all_res_996_5k_95_72')"
   ]
  },
  {
   "cell_type": "code",
   "execution_count": 12,
   "id": "491dff01",
   "metadata": {
    "scrolled": false
   },
   "outputs": [
    {
     "name": "stdout",
     "output_type": "stream",
     "text": [
      "Source =  D:Data/AesthAI/benchmark/images/good\n",
      "Target =  D:Data/AesthAI/benchmark/features/resnet/border_996x996_5k_95_72/\n",
      "Extracted all...\n"
     ]
    }
   ],
   "source": [
    "# benchmark good\n",
    "source_file = root_path + 'Data/AesthAI/benchmark/images/good' \n",
    "target_file = root_path + 'Data/AesthAI/benchmark/features/resnet/border_996x996_5k_95_72/'\n",
    "\n",
    "extract_features_from_path_automated_json(\n",
    "                                     source_file=source_file,\n",
    "                                     target_file=target_file,\n",
    "                                     label='good',\n",
    "                                     splitted='',\n",
    "                                     model=model_resnet, \n",
    "                                     resize_func=resize_add_border,\n",
    "                                     size=(996,996),\n",
    "                                     crop_func=None,\n",
    "                                     save_json=False)"
   ]
  },
  {
   "cell_type": "code",
   "execution_count": 13,
   "id": "3f5cbdae",
   "metadata": {},
   "outputs": [
    {
     "name": "stdout",
     "output_type": "stream",
     "text": [
      "Source =  D:Data/AesthAI/benchmark/images/bad\n",
      "Target =  D:Data/AesthAI/benchmark/features/resnet/border_996x996_5k_95_72/\n",
      "Extracted all...\n"
     ]
    }
   ],
   "source": [
    "# benchmark bad\n",
    "source_file = root_path + 'Data/AesthAI/benchmark/images/bad' \n",
    "target_file = root_path + 'Data/AesthAI/benchmark/features/resnet/border_996x996_5k_95_72/'\n",
    "\n",
    "extract_features_from_path_automated_json(\n",
    "                                     source_file=source_file,\n",
    "                                     target_file=target_file,\n",
    "                                     label='bad',\n",
    "                                     splitted='',\n",
    "                                     model=model_resnet, \n",
    "                                     resize_func=resize_add_border,\n",
    "                                     size=(996,996),\n",
    "                                     crop_func=None,\n",
    "                                     save_json=False)"
   ]
  },
  {
   "cell_type": "markdown",
   "id": "b786577e",
   "metadata": {},
   "source": [
    "### Loading features of benchmark data  extracted with Resnet and Multigap from .json"
   ]
  },
  {
   "cell_type": "code",
   "execution_count": 13,
   "id": "7922f57c",
   "metadata": {},
   "outputs": [],
   "source": [
    "benchmark_feats_path = root_path + 'Data/AesthAI/benchmark/'\n",
    "feats_MG = 'all_res_996'\n",
    "feats_resnet = 'border_996x996_5k_95_72'\n",
    "feats_cnn = 'border_600x600'\n",
    "benchmark_multigap_feats = []\n",
    "benchmark_resnet_feats = []\n",
    "\n",
    "benchmark_good_json = open(f'{benchmark_feats_path}/data_good.json')\n",
    "benchmark_bad_json = open(f'{benchmark_feats_path}/data_bad.json')\n",
    "benchmark_good_feats = json.load(benchmark_good_json)\n",
    "benchmark_bad_feats = json.load(benchmark_bad_json)\n",
    "\n",
    "for data in benchmark_good_feats:\n",
    "    multigap_feats_path = benchmark_feats_path + f'features/multigap/{feats_MG}/' + data['feature']\n",
    "    cnn_feats_path = benchmark_feats_path + f'features/cnn_efficientnet_b7/{feats_cnn}/' + data['feature']\n",
    "    resnet_feats_path = benchmark_feats_path + f'features/resnet/{feats_resnet}/' + data['feature']\n",
    "    \n",
    "    connected = np.concatenate((np.squeeze(np.load(multigap_feats_path)), np.squeeze(np.load(cnn_feats_path))))\n",
    "#     print(connected.shape)\n",
    "    connected = take_from_vector(connected, indxs)\n",
    "#     print(connected.shape)\n",
    "#     print(np.load(resnet_feats_path).shape)\n",
    "\n",
    "#     print(take_from_vector(np.load(multigap_feats_path)).shape)\n",
    "    benchmark_multigap_feats.append(connected[None])\n",
    "    resnet = np.squeeze(np.load(resnet_feats_path))\n",
    "#     resnet_concat = np.concatenate((resnet, connected[3409:]))\n",
    "    benchmark_resnet_feats.append(resnet)\n",
    "\n",
    "for data in benchmark_bad_feats:\n",
    "    multigap_feats_path = benchmark_feats_path + f'features/multigap/{feats_MG}/' + data['feature']\n",
    "    cnn_feats_path = benchmark_feats_path + f'features/cnn_efficientnet_b7/{feats_cnn}/' + data['feature']\n",
    "    resnet_feats_path = benchmark_feats_path + f'features/resnet/{feats_resnet}/' + data['feature']\n",
    "    \n",
    "    connected = np.concatenate((np.squeeze(np.load(multigap_feats_path)), np.squeeze(np.load(cnn_feats_path))))\n",
    "    \n",
    "    connected = take_from_vector(connected, indxs)\n",
    "#     print(np.load(resnet_feats_path).shape)\n",
    "    \n",
    "    benchmark_multigap_feats.append(connected[None])\n",
    "    resnet = np.squeeze(np.load(resnet_feats_path))\n",
    "#     resnet_concat = np.concatenate((resnet, connected[3409:]))\n",
    "    benchmark_resnet_feats.append(resnet)\n",
    "    \n",
    "    \n",
    "benchmark_resnet_feats = np.squeeze(benchmark_resnet_feats)\n",
    "benchmark_multigap_feats = np.squeeze(benchmark_multigap_feats)"
   ]
  },
  {
   "cell_type": "code",
   "execution_count": 14,
   "id": "6991acb2",
   "metadata": {},
   "outputs": [
    {
     "data": {
      "text/plain": [
       "(111, 5000)"
      ]
     },
     "execution_count": 14,
     "metadata": {},
     "output_type": "execute_result"
    }
   ],
   "source": [
    "benchmark_multigap_feats.shape"
   ]
  },
  {
   "cell_type": "code",
   "execution_count": 15,
   "id": "cbeef118",
   "metadata": {},
   "outputs": [
    {
     "data": {
      "text/plain": [
       "(111, 5000)"
      ]
     },
     "execution_count": 15,
     "metadata": {},
     "output_type": "execute_result"
    }
   ],
   "source": [
    "benchmark_resnet_feats.shape"
   ]
  },
  {
   "cell_type": "markdown",
   "id": "3294a2c0",
   "metadata": {},
   "source": [
    "## Creating model"
   ]
  },
  {
   "cell_type": "code",
   "execution_count": 16,
   "id": "24628530",
   "metadata": {},
   "outputs": [],
   "source": [
    "model = fc_model_softmax(input_num=5000)\n",
    "model_resnet = fc_model_softmax(input_num=5000)\n",
    "# weights_path = 'Distillation_Learning/best_res/best_custom_2.hdf5'\n",
    "# # 'Genetic_Algorithm/best_res/best_custom_90.09_91.78.hdf5'  #'models/Softmax/model_fc_softmax_26_08_128bs_epoch15.hdf5'\n",
    "# #  models/Softmax/MG_Take_3k.hdf5\n",
    "model_path = 'models/Softmax/best_custom_95.72.hdf5'\n",
    "model_resnet.load_weights(model_path)\n",
    "weights_path = 'models/Softmax/best_custom_95.72.hdf5'\n",
    "model.load_weights(weights_path)"
   ]
  },
  {
   "cell_type": "code",
   "execution_count": 17,
   "id": "204ecce0",
   "metadata": {},
   "outputs": [
    {
     "name": "stdout",
     "output_type": "stream",
     "text": [
      "4/4 [==============================] - 1s 6ms/step\n",
      "4/4 [==============================] - 0s 9ms/step\n"
     ]
    }
   ],
   "source": [
    "pred_mg = model.predict(benchmark_multigap_feats)\n",
    "pred_resnet = model.predict(benchmark_resnet_feats)"
   ]
  },
  {
   "cell_type": "code",
   "execution_count": 18,
   "id": "2f5c7304",
   "metadata": {},
   "outputs": [],
   "source": [
    "multigap_predicted_binary = np.argmax(pred_mg, axis=1) \n",
    "resnet_predicted_binary = np.argmax(pred_resnet, axis=1) "
   ]
  },
  {
   "cell_type": "code",
   "execution_count": 19,
   "id": "c20a73bc",
   "metadata": {},
   "outputs": [
    {
     "data": {
      "text/plain": [
       "array([0, 1, 0, 0, 1, 0, 0, 1, 1, 1, 0, 1, 0, 1, 1, 0, 0, 1, 1, 1, 1, 1,\n",
       "       1, 1, 1, 1, 0, 1, 1, 1, 1, 1, 1, 1, 1, 1, 1, 1, 1, 1, 1, 1, 0, 1,\n",
       "       1, 1, 1, 0, 0, 0, 0, 0, 0, 0, 0, 0, 0, 0, 0, 0, 0, 0, 0, 0, 0, 0,\n",
       "       0, 0, 0, 0, 0, 0, 0, 0, 0, 0, 0, 0, 0, 0, 0, 0, 0, 0, 0, 0, 0, 0,\n",
       "       0, 1, 0, 0, 0, 0, 0, 0, 0, 1, 0, 0, 0, 0, 0, 0, 0, 0, 0, 0, 0, 0,\n",
       "       0], dtype=int64)"
      ]
     },
     "execution_count": 19,
     "metadata": {},
     "output_type": "execute_result"
    }
   ],
   "source": [
    "multigap_predicted_binary"
   ]
  },
  {
   "cell_type": "code",
   "execution_count": 20,
   "id": "ccccd58c",
   "metadata": {
    "scrolled": true
   },
   "outputs": [
    {
     "data": {
      "text/plain": [
       "array([1, 0, 0, 1, 0, 0, 0, 1, 0, 1, 1, 1, 1, 1, 0, 0, 0, 0, 1, 1, 1, 1,\n",
       "       0, 0, 1, 1, 0, 1, 0, 0, 1, 1, 1, 0, 0, 0, 1, 1, 1, 1, 1, 1, 1, 1,\n",
       "       1, 1, 0, 0, 0, 1, 0, 0, 1, 1, 1, 0, 0, 1, 0, 0, 0, 0, 0, 0, 0, 0,\n",
       "       0, 0, 0, 0, 0, 0, 0, 1, 1, 0, 0, 0, 0, 0, 0, 0, 0, 0, 1, 1, 1, 0,\n",
       "       0, 0, 0, 0, 0, 0, 0, 0, 1, 1, 0, 0, 1, 0, 0, 0, 0, 0, 0, 0, 0, 0,\n",
       "       1], dtype=int64)"
      ]
     },
     "execution_count": 20,
     "metadata": {},
     "output_type": "execute_result"
    }
   ],
   "source": [
    "resnet_predicted_binary"
   ]
  },
  {
   "cell_type": "markdown",
   "id": "127549b3",
   "metadata": {},
   "source": [
    "## Prediction"
   ]
  },
  {
   "cell_type": "code",
   "execution_count": 36,
   "id": "6ec921e1",
   "metadata": {},
   "outputs": [],
   "source": [
    "# multigap_predicted = predict_from_path(model_gap, model, paths, resize_func=resize_max, size=(3000, 3000), for_all=False,\n",
    "#                                        model_cnn=model_cnn, take=True)\n",
    "# multigap_predicted_binary = np.argmax(multigap_predicted, axis=1)\n",
    "# multigap_predicted_binary"
   ]
  },
  {
   "cell_type": "code",
   "execution_count": 37,
   "id": "8e60a46a",
   "metadata": {},
   "outputs": [],
   "source": [
    "# resnet_predicted = predict_from_path(model_resnet, model, paths, resize_func=resize_add_border, size=(996, 996), for_all=False)\n",
    "# resnet_predicted_binary = np.argmax(resnet_predicted, axis=1)\n",
    "# resnet_predicted_binary"
   ]
  },
  {
   "cell_type": "markdown",
   "id": "cf9c7987",
   "metadata": {},
   "source": [
    "## Binary Accuracy"
   ]
  },
  {
   "cell_type": "code",
   "execution_count": 21,
   "id": "e5a39b00",
   "metadata": {},
   "outputs": [],
   "source": [
    "def calc_acc(labels, predicted):\n",
    "    return (labels == predicted).sum() / len(labels)"
   ]
  },
  {
   "cell_type": "code",
   "execution_count": 22,
   "id": "debc66b0",
   "metadata": {},
   "outputs": [
    {
     "name": "stdout",
     "output_type": "stream",
     "text": [
      "Accuracy resnet with multigap predicted: 0.7117117117117117\n"
     ]
    }
   ],
   "source": [
    "acc = calc_acc(multigap_predicted_binary, resnet_predicted_binary)\n",
    "print(f'Accuracy resnet with multigap predicted: {acc}')"
   ]
  },
  {
   "cell_type": "code",
   "execution_count": 23,
   "id": "e12849bd",
   "metadata": {},
   "outputs": [
    {
     "name": "stdout",
     "output_type": "stream",
     "text": [
      "Accuracy multigap with original binary labels: 0.8828828828828829\n"
     ]
    }
   ],
   "source": [
    "acc = calc_acc(multigap_predicted_binary, labels)\n",
    "print(f'Accuracy multigap with original binary labels: {acc}')"
   ]
  },
  {
   "cell_type": "code",
   "execution_count": 24,
   "id": "c15fefd7",
   "metadata": {},
   "outputs": [
    {
     "name": "stdout",
     "output_type": "stream",
     "text": [
      "Accuracy resnet with original binary labels: 0.7027027027027027\n"
     ]
    }
   ],
   "source": [
    "acc = calc_acc(labels, resnet_predicted_binary)\n",
    "print(f'Accuracy resnet with original binary labels: {acc}')"
   ]
  },
  {
   "cell_type": "markdown",
   "id": "b791df65",
   "metadata": {},
   "source": [
    "## L1 on probabilities"
   ]
  },
  {
   "cell_type": "code",
   "execution_count": 25,
   "id": "b843e99d",
   "metadata": {},
   "outputs": [],
   "source": [
    "def L1_prob(tf_prob, pt_prob):\n",
    "    return ((np.abs(tf_prob[:, 0] - pt_prob[:, 0]) + np.abs(tf_prob[:, 1] - pt_prob[:, 1])) / 2).mean()"
   ]
  },
  {
   "cell_type": "code",
   "execution_count": 26,
   "id": "5cea925a",
   "metadata": {},
   "outputs": [
    {
     "data": {
      "text/plain": [
       "0.3134696"
      ]
     },
     "execution_count": 26,
     "metadata": {},
     "output_type": "execute_result"
    }
   ],
   "source": [
    "L1_prob(pred_mg, pred_resnet)"
   ]
  },
  {
   "cell_type": "markdown",
   "id": "b309b24a",
   "metadata": {},
   "source": [
    "## L1 on features"
   ]
  },
  {
   "cell_type": "code",
   "execution_count": 27,
   "id": "ac5f89d2",
   "metadata": {},
   "outputs": [],
   "source": [
    "def L1(tf_feats, pt_feats):\n",
    "    return np.abs(tf_feats - pt_feats).mean()"
   ]
  },
  {
   "cell_type": "code",
   "execution_count": 28,
   "id": "f9cb19b6",
   "metadata": {},
   "outputs": [
    {
     "data": {
      "text/plain": [
       "1.043696"
      ]
     },
     "execution_count": 28,
     "metadata": {},
     "output_type": "execute_result"
    }
   ],
   "source": [
    "L1(benchmark_multigap_feats, benchmark_resnet_feats)"
   ]
  },
  {
   "cell_type": "markdown",
   "id": "104f4007",
   "metadata": {},
   "source": [
    "## Plotting"
   ]
  },
  {
   "cell_type": "code",
   "execution_count": 29,
   "id": "9e83ebb4",
   "metadata": {},
   "outputs": [],
   "source": [
    "benchmark_multigap_feats = np.squeeze(benchmark_multigap_feats)"
   ]
  },
  {
   "cell_type": "code",
   "execution_count": 30,
   "id": "a5a226de",
   "metadata": {},
   "outputs": [],
   "source": [
    "benchmark_shufflenet_feats = np.squeeze(benchmark_resnet_feats)"
   ]
  },
  {
   "cell_type": "code",
   "execution_count": 31,
   "id": "feea924a",
   "metadata": {},
   "outputs": [
    {
     "name": "stdout",
     "output_type": "stream",
     "text": [
      "Scatter of 100 vector with given range (100, 3409)\n"
     ]
    },
    {
     "data": {
      "image/png": "[encoded data removed]",
      "text/plain": [
       "<Figure size 432x288 with 1 Axes>"
      ]
     },
     "metadata": {
      "needs_background": "light"
     },
     "output_type": "display_data"
    }
   ],
   "source": [
    "i_element = 100\n",
    "feats_range = (100, 3409)\n",
    "\n",
    "print(f'Scatter of {i_element} vector with given range {feats_range}')\n",
    "\n",
    "plt.scatter(np.arange(feats_range[0], feats_range[1]), benchmark_multigap_feats[i_element][feats_range[0]:feats_range[1]], label='Multigap');\n",
    "plt.scatter(np.arange(feats_range[0], feats_range[1]), benchmark_shufflenet_feats[i_element][feats_range[0]:feats_range[1]], label='ResNet');\n",
    "plt.legend()\n",
    "plt.show();"
   ]
  },
  {
   "cell_type": "code",
   "execution_count": null,
   "id": "f8687339",
   "metadata": {},
   "outputs": [],
   "source": []
  },
  {
   "cell_type": "code",
   "execution_count": null,
   "id": "1dbc7f2f",
   "metadata": {},
   "outputs": [],
   "source": []
  }
 ],
 "metadata": {
  "kernelspec": {
   "display_name": "Python 3 (ipykernel)",
   "language": "python",
   "name": "python3"
  },
  "language_info": {
   "codemirror_mode": {
    "name": "ipython",
    "version": 3
   },
   "file_extension": ".py",
   "mimetype": "text/x-python",
   "name": "python",
   "nbconvert_exporter": "python",
   "pygments_lexer": "ipython3",
   "version": "3.9.12"
  }
 },
 "nbformat": 4,
 "nbformat_minor": 5
}
