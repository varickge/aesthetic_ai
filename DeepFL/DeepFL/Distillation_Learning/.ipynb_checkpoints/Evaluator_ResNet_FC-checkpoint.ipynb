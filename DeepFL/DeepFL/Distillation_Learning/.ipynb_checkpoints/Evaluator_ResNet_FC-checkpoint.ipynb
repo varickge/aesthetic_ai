{
 "cells": [
  {
   "cell_type": "code",
   "execution_count": 1,
   "id": "8b5d4e3a",
   "metadata": {},
   "outputs": [],
   "source": [
    "import sys"
   ]
  },
  {
   "cell_type": "code",
   "execution_count": 2,
   "id": "6781da54",
   "metadata": {},
   "outputs": [],
   "source": [
    "sys.path.append('../')"
   ]
  },
  {
   "cell_type": "code",
   "execution_count": 3,
   "id": "6ff3e8ab",
   "metadata": {},
   "outputs": [],
   "source": [
    "from final_utils import *\n",
    "from ResNet import *\n",
    "from ResNet_FC import *\n",
    "root_path = generate_root_path()"
   ]
  },
  {
   "cell_type": "code",
   "execution_count": 4,
   "id": "df46c510",
   "metadata": {},
   "outputs": [
    {
     "name": "stdout",
     "output_type": "stream",
     "text": [
      "2 Physical GPUs, 1 Logical GPU\n"
     ]
    },
    {
     "name": "stderr",
     "output_type": "stream",
     "text": [
      "2022-12-06 17:26:30.549387: I tensorflow/stream_executor/cuda/cuda_gpu_executor.cc:975] successful NUMA node read from SysFS had negative value (-1), but there must be at least one NUMA node, so returning NUMA node zero\n",
      "2022-12-06 17:26:30.549770: I tensorflow/stream_executor/cuda/cuda_gpu_executor.cc:975] successful NUMA node read from SysFS had negative value (-1), but there must be at least one NUMA node, so returning NUMA node zero\n",
      "2022-12-06 17:26:30.553566: I tensorflow/stream_executor/cuda/cuda_gpu_executor.cc:975] successful NUMA node read from SysFS had negative value (-1), but there must be at least one NUMA node, so returning NUMA node zero\n",
      "2022-12-06 17:26:30.553917: I tensorflow/stream_executor/cuda/cuda_gpu_executor.cc:975] successful NUMA node read from SysFS had negative value (-1), but there must be at least one NUMA node, so returning NUMA node zero\n",
      "2022-12-06 17:26:30.554573: I tensorflow/stream_executor/cuda/cuda_gpu_executor.cc:975] successful NUMA node read from SysFS had negative value (-1), but there must be at least one NUMA node, so returning NUMA node zero\n",
      "2022-12-06 17:26:30.554926: I tensorflow/stream_executor/cuda/cuda_gpu_executor.cc:975] successful NUMA node read from SysFS had negative value (-1), but there must be at least one NUMA node, so returning NUMA node zero\n",
      "2022-12-06 17:26:30.555960: I tensorflow/core/platform/cpu_feature_guard.cc:193] This TensorFlow binary is optimized with oneAPI Deep Neural Network Library (oneDNN) to use the following CPU instructions in performance-critical operations:  AVX2 FMA\n",
      "To enable them in other operations, rebuild TensorFlow with the appropriate compiler flags.\n",
      "2022-12-06 17:26:30.556942: I tensorflow/stream_executor/cuda/cuda_gpu_executor.cc:975] successful NUMA node read from SysFS had negative value (-1), but there must be at least one NUMA node, so returning NUMA node zero\n",
      "2022-12-06 17:26:30.557498: I tensorflow/stream_executor/cuda/cuda_gpu_executor.cc:975] successful NUMA node read from SysFS had negative value (-1), but there must be at least one NUMA node, so returning NUMA node zero\n",
      "2022-12-06 17:26:30.558030: I tensorflow/stream_executor/cuda/cuda_gpu_executor.cc:975] successful NUMA node read from SysFS had negative value (-1), but there must be at least one NUMA node, so returning NUMA node zero\n",
      "2022-12-06 17:26:30.964322: I tensorflow/stream_executor/cuda/cuda_gpu_executor.cc:975] successful NUMA node read from SysFS had negative value (-1), but there must be at least one NUMA node, so returning NUMA node zero\n",
      "2022-12-06 17:26:30.965937: I tensorflow/stream_executor/cuda/cuda_gpu_executor.cc:975] successful NUMA node read from SysFS had negative value (-1), but there must be at least one NUMA node, so returning NUMA node zero\n",
      "2022-12-06 17:26:31.069359: I tensorflow/stream_executor/cuda/cuda_gpu_executor.cc:975] successful NUMA node read from SysFS had negative value (-1), but there must be at least one NUMA node, so returning NUMA node zero\n",
      "2022-12-06 17:26:31.070518: I tensorflow/core/common_runtime/gpu/gpu_device.cc:1532] Created device /job:localhost/replica:0/task:0/device:GPU:0 with 14637 MB memory:  -> device: 1, name: NVIDIA GeForce RTX 3090 Ti, pci bus id: 0000:07:00.0, compute capability: 8.6\n"
     ]
    }
   ],
   "source": [
    "# No need to specify \"with gpu 1\" when using this block\n",
    "## USE THIS BLOCK IF YOU HAVE MORE THAN 1 GPU \n",
    "gpus = tf.config.list_physical_devices('GPU')\n",
    "index = 1\n",
    "tf.config.experimental.set_memory_growth(gpus[index], True)\n",
    "# select the gpu you want to use\n",
    "if gpus:\n",
    "  # Restrict TensorFlow to only use the first GPU\n",
    "    try:\n",
    "        tf.config.set_visible_devices(gpus[index], 'GPU')\n",
    "        logical_gpus = tf.config.list_logical_devices('GPU')\n",
    "        print(len(gpus), \"Physical GPUs,\", len(logical_gpus), \"Logical GPU\")\n",
    "    except RuntimeError as e:\n",
    "        # Visible devices must be set before GPUs have been initialized\n",
    "        print(e)"
   ]
  },
  {
   "cell_type": "code",
   "execution_count": 5,
   "id": "7b6c5498",
   "metadata": {},
   "outputs": [
    {
     "name": "stdout",
     "output_type": "stream",
     "text": [
      "WARNING:tensorflow:AutoGraph could not transform <bound method ResnetBlock.call of <ResNet.ResnetBlock object at 0x7fb083802430>> and will run it as-is.\n",
      "Cause: mangled names are not yet supported\n",
      "To silence this warning, decorate the function with @tf.autograph.experimental.do_not_convert\n",
      "WARNING: AutoGraph could not transform <bound method ResnetBlock.call of <ResNet.ResnetBlock object at 0x7fb083802430>> and will run it as-is.\n",
      "Cause: mangled names are not yet supported\n",
      "To silence this warning, decorate the function with @tf.autograph.experimental.do_not_convert\n"
     ]
    }
   ],
   "source": [
    "model_fc = fc_model_softmax(input_num=5000)\n",
    "model_resnet = ResNet18(num_classes=5000)\n",
    "model = resnet_fc(model_resnet=model_resnet, model_fc=model_fc)\n",
    "model.build((None, 600, 600, 3))\n",
    "\n",
    "weights_path = f'../models/Softmax/ResNet_FC/resnet_fc_joint_5k_94_59_to_eval_18_epoch.hdf5'\n",
    "model.load_weights(weights_path)"
   ]
  },
  {
   "cell_type": "code",
   "execution_count": 6,
   "id": "92e28024",
   "metadata": {},
   "outputs": [],
   "source": [
    "good_imgs_path = glob(os.path.join(root_path, 'Data', 'AesthAI', 'benchmark', 'images', 'good', '*'))\n",
    "bad_imgs_path = glob(os.path.join(root_path, 'Data', 'AesthAI', 'benchmark', 'images', 'bad', '*'))\n",
    "\n",
    "good_imgs_path_2 = glob(os.path.join(root_path, 'Data', 'AesthAI', 'benchmark2', 'images', 'good', '*'))\n",
    "bad_imgs_path_2 = glob(os.path.join(root_path, 'Data', 'AesthAI', 'benchmark2', 'images', 'bad', '*'))\n",
    "\n",
    "good_imgs_path_joint = glob(os.path.join(root_path, 'Data', 'AesthAI', 'benchmark_connected', 'images', 'good', '*'))\n",
    "bad_imgs_path_joint = glob(os.path.join(root_path, 'Data', 'AesthAI', 'benchmark_connected', 'images', 'bad', '*'))\n",
    "\n",
    "good_alm_imgs_path = glob(os.path.join(root_path, 'Data', 'AesthAI', 'alm', 'splitted', 'alm_bench', 'images', 'good', '*'))\n",
    "bad_alm_imgs_path = glob(os.path.join(root_path, 'Data', 'AesthAI', 'alm', 'splitted', 'alm_bench', 'images', 'bad', '*'))\n",
    "\n",
    "good_rand_imgs_path = glob(os.path.join(root_path, 'Data', 'AesthAI', 'Sven_custom_data', 'images', 'good', '*'))\n",
    "bad_rand_imgs_path = glob(os.path.join(root_path, 'Data', 'AesthAI', 'Sven_custom_data', 'images', 'bad', '*'))\n",
    "\n",
    "bad_coco_imgs_path = glob(os.path.join(root_path, 'Data', 'AesthAI', 'Coco', 'images', 'bad', '*'))\n",
    "\n",
    "paths_bench = good_imgs_path + bad_imgs_path\n",
    "labels_bench = np.concatenate((np.ones(len(good_imgs_path)), np.zeros(len(bad_imgs_path))))\n",
    "\n",
    "paths_bench_2 = good_imgs_path_2 + bad_imgs_path_2\n",
    "labels_bench_2 = np.concatenate((np.ones(len(good_imgs_path_2)), np.zeros(len(bad_imgs_path_2))))\n",
    "\n",
    "paths_bench_joint = good_imgs_path_joint + bad_imgs_path_joint\n",
    "labels_bench_joint = np.concatenate((np.ones(len(good_imgs_path_joint)), np.zeros(len(bad_imgs_path_joint))))\n",
    "\n",
    "paths_alm_bench = good_alm_imgs_path + bad_alm_imgs_path\n",
    "labels_alm_bench = np.concatenate((np.ones(len(good_alm_imgs_path)), np.zeros(len(bad_alm_imgs_path))))\n",
    "\n",
    "paths_rand_bench = good_rand_imgs_path + bad_rand_imgs_path\n",
    "labels_rand_bench = np.concatenate((np.ones(len(good_rand_imgs_path)), np.zeros(len(bad_rand_imgs_path))))\n",
    "\n",
    "paths_coco_bench = bad_coco_imgs_path\n",
    "labels_coco_bench = np.zeros(len(bad_coco_imgs_path))"
   ]
  },
  {
   "cell_type": "code",
   "execution_count": 7,
   "id": "4a46ef48",
   "metadata": {},
   "outputs": [],
   "source": [
    "def calc_acc(labels, predicted):\n",
    "    return np.sum(np.array(labels) == np.argmax(np.array(predicted), axis=1)) / len(labels)\n",
    "\n",
    "def predict_from_path(model, paths, resize_func=None, size=None, for_all=False, model_CNN=None, is_norm=False):\n",
    "    #always requires list of paths\n",
    "    predicted = []\n",
    "    \n",
    "    for i, path in enumerate(paths):\n",
    "        img_mg = read_img(path=path, resize_func=resize_func, size=size, for_all=for_all)\n",
    "        pred_score = model.predict(img_mg, verbose=0)\n",
    "        predicted.append(pred_score)\n",
    "    \n",
    "    predicted = np.array(predicted)\n",
    "    predicted = np.squeeze(predicted)\n",
    "        \n",
    "    return predicted"
   ]
  },
  {
   "cell_type": "markdown",
   "id": "d07f5ed1",
   "metadata": {},
   "source": [
    "### Prediction on benchmark"
   ]
  },
  {
   "cell_type": "code",
   "execution_count": 8,
   "id": "f5d399fb",
   "metadata": {
    "scrolled": true
   },
   "outputs": [
    {
     "name": "stderr",
     "output_type": "stream",
     "text": [
      "2022-12-06 17:26:47.634220: I tensorflow/stream_executor/cuda/cuda_dnn.cc:384] Loaded cuDNN version 8100\n",
      "2022-12-06 17:26:48.250475: I tensorflow/core/platform/default/subprocess.cc:304] Start cannot spawn child process: No such file or directory\n",
      "2022-12-06 17:26:48.250959: I tensorflow/core/platform/default/subprocess.cc:304] Start cannot spawn child process: No such file or directory\n",
      "2022-12-06 17:26:48.250974: W tensorflow/stream_executor/gpu/asm_compiler.cc:80] Couldn't get ptxas version string: INTERNAL: Couldn't invoke ptxas --version\n",
      "2022-12-06 17:26:48.251346: I tensorflow/core/platform/default/subprocess.cc:304] Start cannot spawn child process: No such file or directory\n",
      "2022-12-06 17:26:48.251386: W tensorflow/stream_executor/gpu/redzone_allocator.cc:314] INTERNAL: Failed to launch ptxas\n",
      "Relying on driver to perform ptx compilation. \n",
      "Modify $PATH to customize ptxas location.\n",
      "This message will be only logged once.\n",
      "2022-12-06 17:26:48.800024: I tensorflow/stream_executor/cuda/cuda_blas.cc:1786] TensorFloat-32 will be used for the matrix multiplication. This will only be logged once.\n"
     ]
    }
   ],
   "source": [
    "predicted = predict_from_path(model, paths_bench, resize_func=resize_add_border, size=(600, 600))"
   ]
  },
  {
   "cell_type": "code",
   "execution_count": 9,
   "id": "b9a35944",
   "metadata": {},
   "outputs": [
    {
     "name": "stdout",
     "output_type": "stream",
     "text": [
      "Accuracy: 0.6666666666666666\n"
     ]
    }
   ],
   "source": [
    "acc = calc_acc(labels_bench, predicted)\n",
    "print(f'Accuracy: {acc}')"
   ]
  },
  {
   "cell_type": "code",
   "execution_count": 10,
   "id": "adb9a20e",
   "metadata": {},
   "outputs": [
    {
     "name": "stdout",
     "output_type": "stream",
     "text": [
      "Precision: 77.78 %\n",
      "Recall: 29.79 %\n"
     ]
    }
   ],
   "source": [
    "# Precision, Recall\n",
    "pred = np.argmax(predicted, axis=1)\n",
    "calc_metrics(labels_bench, pred)"
   ]
  },
  {
   "cell_type": "markdown",
   "id": "ac68ae26",
   "metadata": {},
   "source": [
    "### Prediction on benchmark 2"
   ]
  },
  {
   "cell_type": "code",
   "execution_count": 11,
   "id": "e33255dc",
   "metadata": {},
   "outputs": [],
   "source": [
    "predicted = predict_from_path(model, paths_bench_2, resize_func=resize_add_border, size=(600, 600))"
   ]
  },
  {
   "cell_type": "code",
   "execution_count": 12,
   "id": "2b8665f1",
   "metadata": {},
   "outputs": [
    {
     "name": "stdout",
     "output_type": "stream",
     "text": [
      "Accuracy: 0.6653771760154739\n"
     ]
    }
   ],
   "source": [
    "acc = calc_acc(labels_bench_2, predicted)\n",
    "print(f'Accuracy: {acc}')"
   ]
  },
  {
   "cell_type": "code",
   "execution_count": 13,
   "id": "b657dd65",
   "metadata": {},
   "outputs": [
    {
     "name": "stdout",
     "output_type": "stream",
     "text": [
      "Precision: 92.73 %\n",
      "Recall: 38.2 %\n"
     ]
    }
   ],
   "source": [
    "# Precision, Recall\n",
    "pred = np.argmax(predicted, axis=1)\n",
    "calc_metrics(labels_bench_2, pred)"
   ]
  },
  {
   "cell_type": "markdown",
   "id": "227abec1",
   "metadata": {},
   "source": [
    "### Prediction on joint benchmark "
   ]
  },
  {
   "cell_type": "code",
   "execution_count": 14,
   "id": "874457c2",
   "metadata": {},
   "outputs": [],
   "source": [
    "predicted = predict_from_path(model, paths_bench_joint, resize_func=resize_add_border, size=(600, 600))"
   ]
  },
  {
   "cell_type": "code",
   "execution_count": 15,
   "id": "8cd45358",
   "metadata": {},
   "outputs": [
    {
     "name": "stdout",
     "output_type": "stream",
     "text": [
      "Accuracy: 0.6655021834061136\n"
     ]
    }
   ],
   "source": [
    "acc = calc_acc(labels_bench_joint, predicted)\n",
    "print(f'Accuracy: {acc}')"
   ]
  },
  {
   "cell_type": "code",
   "execution_count": 16,
   "id": "f6928e87",
   "metadata": {},
   "outputs": [
    {
     "name": "stdout",
     "output_type": "stream",
     "text": [
      "Precision: 91.6 %\n",
      "Recall: 37.52 %\n"
     ]
    }
   ],
   "source": [
    "# Precision, Recall\n",
    "pred = np.argmax(predicted, axis=1)\n",
    "calc_metrics(labels_bench_joint, pred)"
   ]
  },
  {
   "cell_type": "markdown",
   "id": "30d45a5d",
   "metadata": {},
   "source": [
    "### Prediction on COCO"
   ]
  },
  {
   "cell_type": "code",
   "execution_count": 17,
   "id": "da4f205f",
   "metadata": {},
   "outputs": [],
   "source": [
    "predicted = predict_from_path(model, paths_coco_bench, resize_func=resize_add_border, size=(600, 600))"
   ]
  },
  {
   "cell_type": "code",
   "execution_count": 18,
   "id": "0e01a154",
   "metadata": {},
   "outputs": [
    {
     "name": "stdout",
     "output_type": "stream",
     "text": [
      "Accuracy: 0.912\n"
     ]
    }
   ],
   "source": [
    "acc = calc_acc(labels_coco_bench, predicted)\n",
    "print(f'Accuracy: {acc}')"
   ]
  },
  {
   "cell_type": "markdown",
   "id": "fb9b3f2e",
   "metadata": {},
   "source": [
    "### Prediction on alm benchmark"
   ]
  },
  {
   "cell_type": "code",
   "execution_count": 19,
   "id": "11707c55",
   "metadata": {},
   "outputs": [],
   "source": [
    "predicted = predict_from_path(model, paths_alm_bench, resize_func=resize_add_border, size=(600, 600))"
   ]
  },
  {
   "cell_type": "code",
   "execution_count": 20,
   "id": "f412c5f2",
   "metadata": {},
   "outputs": [
    {
     "name": "stdout",
     "output_type": "stream",
     "text": [
      "Accuracy: 0.725\n"
     ]
    }
   ],
   "source": [
    "acc = calc_acc(labels_alm_bench, predicted)\n",
    "print(f'Accuracy: {acc}')"
   ]
  },
  {
   "cell_type": "code",
   "execution_count": 21,
   "id": "3e84c339",
   "metadata": {},
   "outputs": [
    {
     "name": "stdout",
     "output_type": "stream",
     "text": [
      "Precision: 88.14 %\n",
      "Recall: 52.0 %\n"
     ]
    }
   ],
   "source": [
    "# Precision, Recall\n",
    "pred = np.argmax(predicted, axis=1)\n",
    "calc_metrics(labels_alm_bench, pred)"
   ]
  },
  {
   "cell_type": "markdown",
   "id": "f6185f50",
   "metadata": {},
   "source": [
    "### Prediction on Sven custom data"
   ]
  },
  {
   "cell_type": "code",
   "execution_count": 22,
   "id": "d1a80a1a",
   "metadata": {},
   "outputs": [],
   "source": [
    "predicted = predict_from_path(model, paths_rand_bench, resize_func=resize_add_border, size=(600, 600))"
   ]
  },
  {
   "cell_type": "code",
   "execution_count": 23,
   "id": "12c9dc57",
   "metadata": {},
   "outputs": [
    {
     "name": "stdout",
     "output_type": "stream",
     "text": [
      "Accuracy: 0.625\n"
     ]
    }
   ],
   "source": [
    "acc = calc_acc(labels_rand_bench, predicted)\n",
    "print(f'Accuracy: {acc}')"
   ]
  },
  {
   "cell_type": "code",
   "execution_count": 24,
   "id": "70533e47",
   "metadata": {},
   "outputs": [
    {
     "name": "stdout",
     "output_type": "stream",
     "text": [
      "Precision: 93.1 %\n",
      "Recall: 27.0 %\n"
     ]
    }
   ],
   "source": [
    "# Precision, Recall\n",
    "pred = np.argmax(predicted, axis=1)\n",
    "calc_metrics(labels_rand_bench, pred)"
   ]
  },
  {
   "cell_type": "code",
   "execution_count": null,
   "id": "878bcfac",
   "metadata": {},
   "outputs": [],
   "source": []
  },
  {
   "cell_type": "code",
   "execution_count": null,
   "id": "d4e0a536",
   "metadata": {},
   "outputs": [],
   "source": []
  }
 ],
 "metadata": {
  "kernelspec": {
   "display_name": "Python 3 (ipykernel)",
   "language": "python",
   "name": "python3"
  },
  "language_info": {
   "codemirror_mode": {
    "name": "ipython",
    "version": 3
   },
   "file_extension": ".py",
   "mimetype": "text/x-python",
   "name": "python",
   "nbconvert_exporter": "python",
   "pygments_lexer": "ipython3",
   "version": "3.9.13"
  }
 },
 "nbformat": 4,
 "nbformat_minor": 5
}
