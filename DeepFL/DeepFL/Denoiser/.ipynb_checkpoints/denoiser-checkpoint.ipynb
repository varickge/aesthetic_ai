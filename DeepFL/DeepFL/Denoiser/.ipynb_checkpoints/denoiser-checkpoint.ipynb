{
 "cells": [
  {
   "cell_type": "code",
   "execution_count": 3,
   "metadata": {},
   "outputs": [],
   "source": [
    "import os\n",
    "import cv2\n",
    "import sys\n",
    "import numpy as np\n",
    "import skimage.io\n",
    "import matplotlib.pyplot as plt\n",
    "from PIL import Image\n",
    "\n",
    "# Import BMCNN\n",
    "ROOT_DIR = os.path.abspath(\"../\")\n",
    "sys.path.append(ROOT_DIR)\n",
    "from bmcnn import utils\n",
    "import bmcnn.model as nmodel\n",
    "\n",
    "#loading denoiser model\n",
    "denoiser = nmodel.ImageDenoiser(graph = 'bmcnn', fs = 64, model_weights = os.path.abspath(\"model_ver2.0.h5\"))\n"
   ]
  },
  {
   "cell_type": "code",
   "execution_count": 4,
   "metadata": {},
   "outputs": [],
   "source": [
    "class Denoiser:\n",
    "    def denoise_with_n(img_ref, sigma=8):\n",
    "        img_ref = img_ref[...,::-1]\n",
    "        h, w = img_ref.shape[:2]\n",
    "\n",
    "        if w % 8 != 0:\n",
    "            img_ref = cv2.resize(img_ref, (h, (w - w % 8)))\n",
    "        if h % 8 != 0:\n",
    "            img_ref = cv2.resize(img_ref, ((h - h % 8), w))\n",
    "\n",
    "        img_n = utils.addNoise(img_ref, sigma)\n",
    "        im_out = denoiser.run(img_n, sigma)\n",
    "        na = np.array(im_out)\n",
    "        img = np.uint8((na)*255)\n",
    "\n",
    "        return img[...,::-1]\n",
    "\n",
    "    def denoise_without_n(img_ref, sigma=8):\n",
    "        img_ref = img_ref[...,::-1]\n",
    "        h, w = img_ref.shape[:2]\n",
    "        if w % 8 != 0:\n",
    "            w = w - w % 8\n",
    "            img_ref = cv2.resize(img_ref,(w, h))\n",
    "        if h % 8 != 0:\n",
    "            img_ref = cv2.resize(img_ref,(w, (h - h % 8)))\n",
    "        im_out = denoiser.run(img_ref, sigma)\n",
    "        na = np.array(im_out)\n",
    "        img = np.uint8((na)*255)\n",
    "\n",
    "        return img[..., ::-1]"
   ]
  },
  {
   "cell_type": "code",
   "execution_count": 12,
   "metadata": {},
   "outputs": [],
   "source": [
    "# plt.imshow(img[...,::-1])\n",
    "# plt.show()\n",
    "\n",
    "# img_1 = Denoiser.denoise_without_n(img, 23)\n",
    "\n",
    "# plt.imshow(img_1[...,::-1])\n",
    "# plt.show()"
   ]
  },
  {
   "cell_type": "code",
   "execution_count": 11,
   "metadata": {},
   "outputs": [],
   "source": [
    "# img_1 = Denoiser.denoise_with_n(img, 50)\n",
    "# plt.imshow(img_1[...,::-1])\n",
    "# plt.show()"
   ]
  },
  {
   "cell_type": "code",
   "execution_count": null,
   "metadata": {},
   "outputs": [],
   "source": []
  }
 ],
 "metadata": {
  "kernelspec": {
   "display_name": "Python 3 (ipykernel)",
   "language": "python",
   "name": "python3"
  },
  "language_info": {
   "codemirror_mode": {
    "name": "ipython",
    "version": 3
   },
   "file_extension": ".py",
   "mimetype": "text/x-python",
   "name": "python",
   "nbconvert_exporter": "python",
   "pygments_lexer": "ipython3",
   "version": "3.9.12"
  }
 },
 "nbformat": 4,
 "nbformat_minor": 2
}
