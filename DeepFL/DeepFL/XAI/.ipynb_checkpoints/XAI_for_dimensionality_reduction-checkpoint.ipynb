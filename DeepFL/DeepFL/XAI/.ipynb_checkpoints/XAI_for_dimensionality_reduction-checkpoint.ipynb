{
 "cells": [
  {
   "cell_type": "code",
   "execution_count": null,
   "id": "4909239b",
   "metadata": {},
   "outputs": [],
   "source": [
    "cd .. "
   ]
  },
  {
   "cell_type": "code",
   "execution_count": null,
   "id": "3c7865ea",
   "metadata": {},
   "outputs": [],
   "source": [
    "from final_utils import *\n",
    "import shap"
   ]
  },
  {
   "cell_type": "code",
   "execution_count": null,
   "id": "0dfe4bb1",
   "metadata": {},
   "outputs": [],
   "source": [
    "root_path = generate_root_path()"
   ]
  },
  {
   "cell_type": "code",
   "execution_count": null,
   "id": "743c3e7a",
   "metadata": {},
   "outputs": [],
   "source": [
    "def fc_model_softmax(input_num=16928):\n",
    "    input_ = Input(shape=(input_num,))\n",
    "    x = Dense(2048, kernel_initializer='he_normal', activation='relu')(input_)\n",
    "    x = BatchNormalization()(x)\n",
    "    x = Dropout(0.25)(x)\n",
    "    x = Dense(1024, kernel_initializer='he_normal', activation='relu')(x)\n",
    "    x = BatchNormalization()(x)\n",
    "    x = Dropout(0.25)(x)\n",
    "    x = Dense(256, kernel_initializer='he_normal', activation='relu')(x)\n",
    "    x = BatchNormalization()(x)\n",
    "    x = Dropout(0.5)(x)\n",
    "    pred = Dense(2, activation='softmax')(x)\n",
    "\n",
    "    model = Model(input_,pred)\n",
    "    return model"
   ]
  },
  {
   "cell_type": "markdown",
   "id": "2a55bcba",
   "metadata": {},
   "source": [
    "### Creating model"
   ]
  },
  {
   "cell_type": "code",
   "execution_count": null,
   "id": "9773acd6",
   "metadata": {},
   "outputs": [],
   "source": [
    "model = fc_model_softmax(input_num=19488)\n",
    "model.load_weights('models/Softmax/MultiGap_CNN/model_fc_softmax_16k_2k.hdf5')"
   ]
  },
  {
   "cell_type": "markdown",
   "id": "9b41bf1f",
   "metadata": {},
   "source": [
    "### Creating dataset\n"
   ]
  },
  {
   "cell_type": "code",
   "execution_count": null,
   "id": "a0c01f6f",
   "metadata": {},
   "outputs": [],
   "source": [
    "paths_multigap = glob(f'{root_path}Data/AesthAI/alm/splitted/alm_train/features/multigap/original/*')\n",
    "paths_cnn = glob(f'{root_path}Data/AesthAI/alm/splitted/alm_train/features/cnn_efficientnet_b7/border_600x600/*')"
   ]
  },
  {
   "cell_type": "code",
   "execution_count": null,
   "id": "612a6e3b",
   "metadata": {},
   "outputs": [],
   "source": [
    "for i in range(len(paths_multigap)):\n",
    "    basename_mg = (os.path.basename(paths_multigap[i]).split('.'))[0] \n",
    "    basename_cnn = (os.path.basename(paths_cnn[i]).split('.'))[0] \n",
    "    if basename_mg != basename_cnn:\n",
    "        print('false')\n",
    "    if i % 100 == 0:\n",
    "#         print(i)\n",
    "        break\n",
    "print('true')"
   ]
  },
  {
   "cell_type": "code",
   "execution_count": null,
   "id": "cc35c1be",
   "metadata": {},
   "outputs": [],
   "source": [
    "feator_vectors = []\n",
    "for i in range(len(paths_multigap)):\n",
    "    mg_vector = np.load(paths_multigap[i])\n",
    "    cnn_vector = np.load(paths_cnn[i])\n",
    "    feator_vector = np.concatenate((mg_vector,cnn_vector), axis  = 1)\n",
    "    feator_vectors.append(feator_vector)\n",
    "    if i == 100:\n",
    "        break\n",
    "    if i % 1000 == 0:\n",
    "        print(i)\n",
    "print(len(feator_vectors))\n",
    "feator_vectors = np.asarray(feator_vectors)\n",
    "feator_vectors = np.squeeze(feator_vectors)\n",
    "print(feator_vectors.shape)\n"
   ]
  },
  {
   "cell_type": "markdown",
   "id": "884b4549",
   "metadata": {},
   "source": [
    "### Explanation with SHAP "
   ]
  },
  {
   "cell_type": "code",
   "execution_count": null,
   "id": "d28590bc",
   "metadata": {},
   "outputs": [],
   "source": [
    "explainer = shap.GradientExplainer(model, feator_vectors)"
   ]
  },
  {
   "cell_type": "code",
   "execution_count": null,
   "id": "067120c9",
   "metadata": {},
   "outputs": [],
   "source": [
    "shap_values = []\n",
    "for i in range(feator_vectors.shape[0]):\n",
    "    shap_values.append(explainer.shap_values(feator_vectors[i])[np.argmax(model.predict(feator_vectors[i]))][0])####\n",
    "    if i % 5000 == 0:\n",
    "        print(i)\n",
    "    \n",
    "len(shap_values)"
   ]
  },
  {
   "cell_type": "code",
   "execution_count": null,
   "id": "51a08dd8",
   "metadata": {},
   "outputs": [],
   "source": [
    "def principal_values(data, num_samples):\n",
    "    data_index = np.argsort(data, axis = 1)[:,::-1]\n",
    "    print(f'data_index = {data_index}')\n",
    "    data_slice = data_index[:,:num_samples]\n",
    "    print(f'data_slice = {data_slice}')\n",
    "    hist, bins = np.histogram(data_slice, bins = data.shape[1] + 1, range = (0, data.shape[1] + 1))\n",
    "    print(f'hist, bins = {hist, bins}')\n",
    "    indxs = np.argsort(hist)[::-1]\n",
    "    print(f'indxs = {indxs}')\n",
    "    return indxs[:num_samples]    "
   ]
  },
  {
   "cell_type": "code",
   "execution_count": null,
   "id": "5016a457",
   "metadata": {},
   "outputs": [],
   "source": [
    "def take_from_vector(feature_vector, indxs):\n",
    "    return feature_vector[indxs]"
   ]
  },
  {
   "cell_type": "code",
   "execution_count": null,
   "id": "9a486eef",
   "metadata": {},
   "outputs": [],
   "source": []
  }
 ],
 "metadata": {
  "kernelspec": {
   "display_name": "Python 3 (ipykernel)",
   "language": "python",
   "name": "python3"
  },
  "language_info": {
   "codemirror_mode": {
    "name": "ipython",
    "version": 3
   },
   "file_extension": ".py",
   "mimetype": "text/x-python",
   "name": "python",
   "nbconvert_exporter": "python",
   "pygments_lexer": "ipython3",
   "version": "3.9.12"
  }
 },
 "nbformat": 4,
 "nbformat_minor": 5
}
