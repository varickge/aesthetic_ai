{
 "cells": [
  {
   "cell_type": "code",
   "execution_count": 1,
   "id": "874db585",
   "metadata": {},
   "outputs": [
    {
     "name": "stdout",
     "output_type": "stream",
     "text": [
      "C:\\Users\\CareAware\\Consulting_Projects\\aesthetic-ai\\DeepFL\\DeepFL\\Distillation_Learning\n"
     ]
    }
   ],
   "source": [
    "cd Distillation_Learning"
   ]
  },
  {
   "cell_type": "code",
   "execution_count": 2,
   "id": "a632935e",
   "metadata": {},
   "outputs": [],
   "source": [
    "from ResNet import *\n"
   ]
  },
  {
   "cell_type": "code",
   "execution_count": 3,
   "id": "f88659e9",
   "metadata": {},
   "outputs": [
    {
     "name": "stdout",
     "output_type": "stream",
     "text": [
      "C:\\Users\\CareAware\\Consulting_Projects\\aesthetic-ai\\DeepFL\\DeepFL\n"
     ]
    }
   ],
   "source": [
    "cd .."
   ]
  },
  {
   "cell_type": "code",
   "execution_count": 1,
   "id": "071a159b",
   "metadata": {},
   "outputs": [],
   "source": [
    "from final_utils import *"
   ]
  },
  {
   "cell_type": "markdown",
   "id": "ebdb55a2",
   "metadata": {},
   "source": [
    "### Creating model and generating root path"
   ]
  },
  {
   "cell_type": "code",
   "execution_count": 2,
   "id": "b74d4328",
   "metadata": {},
   "outputs": [],
   "source": [
    "root_path = generate_root_path() \n",
    "\n",
    "model = model_inceptionresnet_multigap()\n",
    "# model = tf.keras.Sequential([hub.KerasLayer(\"https://tfhub.dev/tensorflow/efficientnet/b7/feature-vector/1\", trainable=False)])\n",
    "# model_resnet = ResNet18(num_classes=5000)\n",
    "# model_resnet.build((None, 600, 600, 3))\n",
    "# weights_path = 'models/ResNet/ResNet_original_border_600x600_best_94.24.hdf5'\n",
    "# model_resnet.load_weights(weights_path)"
   ]
  },
  {
   "cell_type": "markdown",
   "id": "ffe6d2c5",
   "metadata": {},
   "source": [
    "### Feature extracting from path"
   ]
  },
  {
   "cell_type": "code",
   "execution_count": 4,
   "id": "9dc25783",
   "metadata": {
    "scrolled": true
   },
   "outputs": [],
   "source": [
    "# source_file = root_path + 'Data/AesthAI/benchmark2/images/bad'\n",
    "# target_file = root_path + 'Data/AesthAI/benchmark2/features/multigap/original/'\n",
    "\n",
    "# extract_features_from_path_automated_json(source_file=source_file, target_file=target_file, model=model, \n",
    "#                                           label='bad', crop_func=None, resize_func=None)"
   ]
  },
  {
   "cell_type": "markdown",
   "id": "130549a8",
   "metadata": {},
   "source": [
    "### Feature extracting from path and saving to json"
   ]
  },
  {
   "cell_type": "code",
   "execution_count": 4,
   "id": "890a3794",
   "metadata": {},
   "outputs": [
    {
     "name": "stdout",
     "output_type": "stream",
     "text": [
      "Source =  D:/Data/AesthAI/benchmark_connected/images/good/\n",
      "Target =  D:/Data/AesthAI/benchmark_connected/features/multigap/border_600x600/\n",
      "100 images\n",
      "200 images\n",
      "300 images\n",
      "400 images\n",
      "500 images\n",
      "Extracted all...\n"
     ]
    }
   ],
   "source": [
    "# with tf.device('/GPU:1'):\n",
    "source_file = f\"{root_path}/Data/AesthAI/benchmark_connected/images/good/\"\n",
    "target_file = f\"{root_path}/Data/AesthAI/benchmark_connected/features/multigap/border_600x600/\"\n",
    "extract_features_from_path_automated_json(\n",
    "                                 source_file=source_file,\n",
    "                                 target_file=target_file,\n",
    "                                 splitted='bad7',\n",
    "                                 label='bad',\n",
    "                                 resize_func=resize_add_border,\n",
    "                                 size = (600, 600),\n",
    "                                 for_all=False,\n",
    "                                 model=model, \n",
    "                                 save_json=False)\n"
   ]
  },
  {
   "cell_type": "code",
   "execution_count": null,
   "id": "991531f6",
   "metadata": {},
   "outputs": [],
   "source": []
  }
 ],
 "metadata": {
  "kernelspec": {
   "display_name": "Python 3 (ipykernel)",
   "language": "python",
   "name": "python3"
  },
  "language_info": {
   "codemirror_mode": {
    "name": "ipython",
    "version": 3
   },
   "file_extension": ".py",
   "mimetype": "text/x-python",
   "name": "python",
   "nbconvert_exporter": "python",
   "pygments_lexer": "ipython3",
   "version": "3.9.12"
  }
 },
 "nbformat": 4,
 "nbformat_minor": 5
}
