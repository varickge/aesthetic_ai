{
 "cells": [
  {
   "cell_type": "code",
   "execution_count": null,
   "id": "9ecbc4fe",
   "metadata": {},
   "outputs": [],
   "source": [
    "import sys\n",
    "sys.path.append('../')\n",
    "sys.path.append('../../')\n",
    "from GA_class import *"
   ]
  },
  {
   "cell_type": "code",
   "execution_count": null,
   "id": "b9775c3c",
   "metadata": {},
   "outputs": [],
   "source": [
    "def generate_root_path():\n",
    "        return '../../'\n",
    "    \n",
    "root_path = generate_root_path()\n",
    "main_path='Data/AesthAI/alm_96/splitted/alm_train/'\n",
    "bench_path = 'Data/AesthAI/benchmark_connected/'"
   ]
  },
  {
   "cell_type": "markdown",
   "id": "7a76de62",
   "metadata": {},
   "source": [
    "## Creating nessesary directories"
   ]
  },
  {
   "cell_type": "code",
   "execution_count": null,
   "id": "7391ccc2",
   "metadata": {},
   "outputs": [],
   "source": [
    "# If folder architecture in repository doesn't correspond to the demo\n",
    "if not os.path.exists(f'{root_path}/{main_path}features/multigap/all_res_996'):\n",
    "    os.makedirs(f'{root_path}/{main_path}features/multigap/all_res_996')\n",
    "if not os.path.exists(f'{root_path}/{main_path}features/cnn_efficientnet_b7/border_600x600'):\n",
    "    os.makedirs(f'{root_path}/{main_path}features/cnn_efficientnet_b7/border_600x600')\n",
    "if not os.path.exists(f'{root_path}/{bench_path}features/multigap/all_res_996'):\n",
    "    os.makedirs(f'{root_path}/{bench_path}features/multigap/all_res_996')\n",
    "if not os.path.exists(f'{root_path}/{bench_path}features/cnn_efficientnet_b7/border_600x600'):\n",
    "    os.makedirs(f'{root_path}/{bench_path}features/cnn_efficientnet_b7/border_600x600')\n",
    "\n",
    "# The features extracted below will be put here"
   ]
  },
  {
   "cell_type": "markdown",
   "id": "c8baa236",
   "metadata": {},
   "source": [
    "## Creating models"
   ]
  },
  {
   "cell_type": "code",
   "execution_count": null,
   "id": "d63af054",
   "metadata": {},
   "outputs": [],
   "source": [
    "model_multigap  = model_inceptionresnet_multigap(model_path='../../models/quality-mlsp-mtl-mse-loss.hdf5')\n",
    "model_cnn = tf.keras.Sequential([hub.KerasLayer(\"https://tfhub.dev/tensorflow/efficientnet/b7/feature-vector/1\", trainable=False)])"
   ]
  },
  {
   "cell_type": "markdown",
   "id": "3d559f9c",
   "metadata": {},
   "source": [
    "# Feature extraction"
   ]
  },
  {
   "cell_type": "markdown",
   "id": "8ba088db",
   "metadata": {},
   "source": [
    "### Multigap (for train data)"
   ]
  },
  {
   "cell_type": "code",
   "execution_count": null,
   "id": "fb0cd7de",
   "metadata": {},
   "outputs": [],
   "source": [
    "source_file = f'{root_path}/{main_path}images/good/good1'\n",
    "target_file = f'{root_path}/{main_path}features/multigap/all_res_996'\n",
    "extract_features_from_path_automated_json(\n",
    "                                 source_file=source_file,\n",
    "                                 target_file=target_file,\n",
    "                                 splitted='good1',\n",
    "                                 label='good',\n",
    "                                 resize_func=resize_max,\n",
    "                                 size=(996,996),\n",
    "                                 for_all=True,\n",
    "                                 model=model_multigap, \n",
    "                                 save_json=False)\n",
    "\n",
    "for i in range(7):\n",
    "    source_file = f'{root_path}/{main_path}/images/bad/bad{i+1}'\n",
    "    target_file = f'{root_path}/{main_path}/features/multigap/all_res_996'\n",
    "    extract_features_from_path_automated_json(\n",
    "                                 source_file=source_file,\n",
    "                                 target_file=target_file,\n",
    "                                 splitted=f'bad{i+1}',\n",
    "                                 label='bad',\n",
    "                                 resize_func=resize_max,\n",
    "                                 size=(996,996),\n",
    "                                 for_all=True,\n",
    "                                 model=model_multigap, \n",
    "                                 save_json=False)\n",
    "    "
   ]
  },
  {
   "cell_type": "markdown",
   "id": "a0f99c54",
   "metadata": {},
   "source": [
    "### CNN (for train data)"
   ]
  },
  {
   "cell_type": "code",
   "execution_count": null,
   "id": "fd7cdde9",
   "metadata": {},
   "outputs": [],
   "source": [
    "source_file = f'{root_path}/{main_path}images/good/good1'\n",
    "target_file = f'{root_path}/{main_path}features/cnn_efficientnet_b7/border_600x600'\n",
    "extract_features_from_path_automated_json(\n",
    "                                 source_file=source_file,\n",
    "                                 target_file=target_file,\n",
    "                                 splitted='good1',\n",
    "                                 label='good',\n",
    "                                 resize_func=resize_add_border,\n",
    "                                 size = (600, 600),\n",
    "                                 for_all=False,\n",
    "                                 model=model_cnn, \n",
    "                                 save_json=False)\n",
    "for i in range(7):\n",
    "    source_file = f'{root_path}/{main_path}images/bad/bad{i+1}'\n",
    "    target_file = f'{root_path}/{main_path}features/cnn_efficientnet_b7/border_600x600'\n",
    "    extract_features_from_path_automated_json(\n",
    "                                 source_file=source_file,\n",
    "                                 target_file=target_file,\n",
    "                                 splitted=f'bad{i+1}',\n",
    "                                 label='bad',\n",
    "                                 resize_func=resize_add_border,\n",
    "                                 size = (600, 600),\n",
    "                                 for_all=False,\n",
    "                                 model=model_cnn, \n",
    "                                 save_json=False)\n",
    "    "
   ]
  },
  {
   "cell_type": "markdown",
   "id": "a7f5331e",
   "metadata": {},
   "source": [
    "### Multigap (for benchmark data)\n"
   ]
  },
  {
   "cell_type": "code",
   "execution_count": null,
   "id": "153b99e1",
   "metadata": {},
   "outputs": [],
   "source": [
    "source_file = f'{root_path}/{bench_path}images/good/'\n",
    "target_file = f'{root_path}/{bench_path}features/multigap/all_res_996'\n",
    "extract_features_from_path_automated_json(\n",
    "                                 source_file=source_file,\n",
    "                                 target_file=target_file,\n",
    "                                 splitted='good',\n",
    "                                 label='good',\n",
    "                                 resize_func=resize_max,\n",
    "                                 size = (996, 996),\n",
    "                                 for_all=True,\n",
    "                                 model=model_multigap, \n",
    "                                 save_json=True)\n",
    "\n",
    "source_file = f'{root_path}/{bench_path}images/bad/'\n",
    "target_file = f'{root_path}/{bench_path}features/multigap/all_res_996'\n",
    "extract_features_from_path_automated_json(\n",
    "                             source_file=source_file,\n",
    "                             target_file=target_file,\n",
    "                             splitted='bad',\n",
    "                             label='bad',\n",
    "                             resize_func=resize_max,\n",
    "                             size = (996, 996),\n",
    "                             for_all=True,\n",
    "                             model=model_multigap, \n",
    "                             save_json=True)"
   ]
  },
  {
   "cell_type": "markdown",
   "id": "d1c4fec5",
   "metadata": {},
   "source": [
    "### CNN (for benchmark data)"
   ]
  },
  {
   "cell_type": "code",
   "execution_count": null,
   "id": "edbf4aec",
   "metadata": {},
   "outputs": [],
   "source": [
    "source_file = f'{root_path}/{bench_path}images/good/'\n",
    "target_file = f'{root_path}/{bench_path}features/cnn_efficientnet_b7/border_600x600'\n",
    "extract_features_from_path_automated_json(\n",
    "                                 source_file=source_file,\n",
    "                                 target_file=target_file,\n",
    "                                 splitted='good',\n",
    "                                 label='good',\n",
    "                                 resize_func=resize_add_border,\n",
    "                                 size = (600, 600),\n",
    "                                 for_all=False,\n",
    "                                 model=model_cnn, \n",
    "                                 save_json=True)\n",
    "\n",
    "source_file = f'{root_path}/{bench_path}/images/bad/'\n",
    "target_file = f'{root_path}/{bench_path}/features/cnn_efficientnet_b7/border_600x600'\n",
    "extract_features_from_path_automated_json(\n",
    "                             source_file=source_file,\n",
    "                             target_file=target_file,\n",
    "                             splitted=f'bad',\n",
    "                             label='bad',\n",
    "                             resize_func=resize_add_border,\n",
    "                             size = (600, 600),\n",
    "                             for_all=False,\n",
    "                             model=model_cnn, \n",
    "                             save_json=True)"
   ]
  },
  {
   "cell_type": "markdown",
   "id": "27e2f342",
   "metadata": {},
   "source": [
    "## Starting GA"
   ]
  },
  {
   "cell_type": "code",
   "execution_count": null,
   "id": "68761432",
   "metadata": {},
   "outputs": [],
   "source": [
    "findBestFeats = GA_custom(root_path=generate_root_path(), main_path='Data/AesthAI/alm_96/splitted/alm_train/', \n",
    "                          feats_MG='all_res_996')"
   ]
  },
  {
   "cell_type": "code",
   "execution_count": null,
   "id": "90eccf0a",
   "metadata": {},
   "outputs": [],
   "source": [
    "for gen in range(2):\n",
    "    findBestFeats(generation=gen)"
   ]
  },
  {
   "cell_type": "code",
   "execution_count": null,
   "id": "bb515cfe",
   "metadata": {},
   "outputs": [],
   "source": []
  }
 ],
 "metadata": {
  "kernelspec": {
   "display_name": "Python 3 (ipykernel)",
   "language": "python",
   "name": "python3"
  },
  "language_info": {
   "codemirror_mode": {
    "name": "ipython",
    "version": 3
   },
   "file_extension": ".py",
   "mimetype": "text/x-python",
   "name": "python",
   "nbconvert_exporter": "python",
   "pygments_lexer": "ipython3",
   "version": "3.9.12"
  }
 },
 "nbformat": 4,
 "nbformat_minor": 5
}
